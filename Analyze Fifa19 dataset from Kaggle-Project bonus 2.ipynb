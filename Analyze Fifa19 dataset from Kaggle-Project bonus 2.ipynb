{
 "cells": [
  {
   "cell_type": "markdown",
   "metadata": {},
   "source": [
    "# Fifa19 Exercise - Solutions\n",
    "\n",
    "Welcome to a quick exercise for you to practice your pandas skills! We will be using the [Fifa19 Dataset](https://www.kaggle.com/winterbreeze/fifa19eda) from Kaggle! Just follow along and complete the tasks outlined in bold below. The tasks will get harder and harder as you go along."
   ]
  },
  {
   "cell_type": "markdown",
   "metadata": {},
   "source": [
    "**Import pandas as pd.**"
   ]
  },
  {
   "cell_type": "code",
   "execution_count": 1,
   "metadata": {},
   "outputs": [],
   "source": [
    "import pandas as pd"
   ]
  },
  {
   "cell_type": "markdown",
   "metadata": {},
   "source": [
    "**Read fifa_eda.csv as a dataframe called fifa.**"
   ]
  },
  {
   "cell_type": "code",
   "execution_count": 2,
   "metadata": {},
   "outputs": [
    {
     "data": {
      "application/vnd.microsoft.datawrangler.viewer.v0+json": {
       "columns": [
        {
         "name": "index",
         "rawType": "int64",
         "type": "integer"
        },
        {
         "name": "ID",
         "rawType": "int64",
         "type": "integer"
        },
        {
         "name": "Name",
         "rawType": "object",
         "type": "string"
        },
        {
         "name": "Age",
         "rawType": "int64",
         "type": "integer"
        },
        {
         "name": "Nationality",
         "rawType": "object",
         "type": "string"
        },
        {
         "name": "Overall",
         "rawType": "int64",
         "type": "integer"
        },
        {
         "name": "Potential",
         "rawType": "int64",
         "type": "integer"
        },
        {
         "name": "Club",
         "rawType": "object",
         "type": "unknown"
        },
        {
         "name": "Value",
         "rawType": "float64",
         "type": "float"
        },
        {
         "name": "Wage",
         "rawType": "int64",
         "type": "integer"
        },
        {
         "name": "Preferred Foot",
         "rawType": "object",
         "type": "string"
        },
        {
         "name": "International Reputation",
         "rawType": "float64",
         "type": "float"
        },
        {
         "name": "Skill Moves",
         "rawType": "float64",
         "type": "float"
        },
        {
         "name": "Position",
         "rawType": "object",
         "type": "string"
        },
        {
         "name": "Joined",
         "rawType": "int64",
         "type": "integer"
        },
        {
         "name": "Contract Valid Until",
         "rawType": "object",
         "type": "unknown"
        },
        {
         "name": "Height",
         "rawType": "float64",
         "type": "float"
        },
        {
         "name": "Weight",
         "rawType": "float64",
         "type": "float"
        },
        {
         "name": "Release Clause",
         "rawType": "float64",
         "type": "float"
        }
       ],
       "ref": "5c361fd2-5252-48a2-baf4-da12c525bfa8",
       "rows": [
        [
         "0",
         "158023",
         "L. Messi",
         "31",
         "Argentina",
         "94",
         "94",
         "FC Barcelona",
         "110500.0",
         "565",
         "Left",
         "5.0",
         "4.0",
         "RF",
         "2004",
         "1/1/2021",
         "5.583333333333333",
         "159.0",
         "226500.0"
        ],
        [
         "1",
         "20801",
         "Cristiano Ronaldo",
         "33",
         "Portugal",
         "94",
         "94",
         "Juventus",
         "77000.0",
         "405",
         "Right",
         "5.0",
         "5.0",
         "ST",
         "2018",
         "1/1/2022",
         "6.166666666666667",
         "183.0",
         "127100.0"
        ],
        [
         "2",
         "190871",
         "Neymar Jr",
         "26",
         "Brazil",
         "92",
         "93",
         "Paris Saint-Germain",
         "118500.0",
         "290",
         "Right",
         "5.0",
         "5.0",
         "LW",
         "2017",
         "1/1/2022",
         "5.75",
         "150.0",
         "228100.0"
        ],
        [
         "3",
         "193080",
         "De Gea",
         "27",
         "Spain",
         "91",
         "93",
         "Manchester United",
         "72000.0",
         "260",
         "Right",
         "4.0",
         "1.0",
         "GK",
         "2011",
         "1/1/2020",
         "6.333333333333333",
         "168.0",
         "138600.0"
        ],
        [
         "4",
         "192985",
         "K. De Bruyne",
         "27",
         "Belgium",
         "91",
         "92",
         "Manchester City",
         "102000.0",
         "355",
         "Right",
         "4.0",
         "4.0",
         "RCM",
         "2015",
         "1/1/2023",
         "5.916666666666667",
         "154.0",
         "196400.0"
        ],
        [
         "5",
         "183277",
         "E. Hazard",
         "27",
         "Belgium",
         "91",
         "91",
         "Chelsea",
         "93000.0",
         "340",
         "Right",
         "4.0",
         "4.0",
         "LF",
         "2012",
         "1/1/2020",
         "5.666666666666667",
         "163.0",
         "172100.0"
        ],
        [
         "6",
         "177003",
         "L. Modric",
         "32",
         "Croatia",
         "91",
         "91",
         "Real Madrid",
         "67000.0",
         "420",
         "Right",
         "4.0",
         "4.0",
         "RCM",
         "2012",
         "1/1/2020",
         "5.666666666666667",
         "146.0",
         "137400.0"
        ],
        [
         "7",
         "176580",
         "L. Suárez",
         "31",
         "Uruguay",
         "91",
         "91",
         "FC Barcelona",
         "80000.0",
         "455",
         "Right",
         "5.0",
         "3.0",
         "RS",
         "2014",
         "1/1/2021",
         "6.0",
         "190.0",
         "164000.0"
        ],
        [
         "8",
         "155862",
         "Sergio Ramos",
         "32",
         "Spain",
         "91",
         "91",
         "Real Madrid",
         "51000.0",
         "380",
         "Right",
         "4.0",
         "3.0",
         "RCB",
         "2005",
         "1/1/2020",
         "6.0",
         "181.0",
         "104600.0"
        ],
        [
         "9",
         "200389",
         "J. Oblak",
         "25",
         "Slovenia",
         "90",
         "93",
         "Atlético Madrid",
         "68000.0",
         "94",
         "Right",
         "3.0",
         "1.0",
         "GK",
         "2014",
         "1/1/2021",
         "6.166666666666667",
         "192.0",
         "144500.0"
        ],
        [
         "10",
         "188545",
         "R. Lewandowski",
         "29",
         "Poland",
         "90",
         "90",
         "FC Bayern München",
         "77000.0",
         "205",
         "Right",
         "4.0",
         "4.0",
         "ST",
         "2014",
         "1/1/2021",
         "6.0",
         "176.0",
         "127100.0"
        ],
        [
         "11",
         "182521",
         "T. Kroos",
         "28",
         "Germany",
         "90",
         "90",
         "Real Madrid",
         "76500.0",
         "355",
         "Right",
         "4.0",
         "3.0",
         "LCM",
         "2014",
         "1/1/2022",
         "6.0",
         "168.0",
         "156800.0"
        ],
        [
         "12",
         "182493",
         "D. Godín",
         "32",
         "Uruguay",
         "90",
         "90",
         "Atlético Madrid",
         "44000.0",
         "125",
         "Right",
         "3.0",
         "2.0",
         "CB",
         "2010",
         "1/1/2019",
         "6.166666666666667",
         "172.0",
         "90200.0"
        ],
        [
         "13",
         "168542",
         "David Silva",
         "32",
         "Spain",
         "90",
         "90",
         "Manchester City",
         "60000.0",
         "285",
         "Left",
         "4.0",
         "4.0",
         "LCM",
         "2010",
         "1/1/2020",
         "5.666666666666667",
         "148.0",
         "111000.0"
        ],
        [
         "14",
         "215914",
         "N. Kanté",
         "27",
         "France",
         "89",
         "90",
         "Chelsea",
         "63000.0",
         "225",
         "Right",
         "3.0",
         "2.0",
         "LDM",
         "2016",
         "1/1/2023",
         "5.5",
         "159.0",
         "121300.0"
        ],
        [
         "15",
         "211110",
         "P. Dybala",
         "24",
         "Argentina",
         "89",
         "94",
         "Juventus",
         "89000.0",
         "205",
         "Left",
         "3.0",
         "4.0",
         "LF",
         "2015",
         "1/1/2022",
         "5.833333333333333",
         "165.0",
         "153500.0"
        ],
        [
         "16",
         "202126",
         "H. Kane",
         "24",
         "England",
         "89",
         "91",
         "Tottenham Hotspur",
         "83500.0",
         "205",
         "Right",
         "3.0",
         "3.0",
         "ST",
         "2010",
         "1/1/2024",
         "6.166666666666667",
         "196.0",
         "160700.0"
        ],
        [
         "17",
         "194765",
         "A. Griezmann",
         "27",
         "France",
         "89",
         "90",
         "Atlético Madrid",
         "78000.0",
         "145",
         "Left",
         "4.0",
         "4.0",
         "CAM",
         "2014",
         "1/1/2023",
         "5.75",
         "161.0",
         "165800.0"
        ],
        [
         "18",
         "192448",
         "M. ter Stegen",
         "26",
         "Germany",
         "89",
         "92",
         "FC Barcelona",
         "58000.0",
         "240",
         "Right",
         "3.0",
         "1.0",
         "GK",
         "2014",
         "1/1/2022",
         "6.166666666666667",
         "187.0",
         "123300.0"
        ],
        [
         "19",
         "192119",
         "T. Courtois",
         "26",
         "Belgium",
         "89",
         "90",
         "Real Madrid",
         "53500.0",
         "240",
         "Left",
         "4.0",
         "1.0",
         "GK",
         "2018",
         "1/1/2024",
         "6.5",
         "212.0",
         "113700.0"
        ],
        [
         "20",
         "189511",
         "Sergio Busquets",
         "29",
         "Spain",
         "89",
         "89",
         "FC Barcelona",
         "51500.0",
         "315",
         "Right",
         "4.0",
         "3.0",
         "CDM",
         "2008",
         "1/1/2023",
         "6.166666666666667",
         "168.0",
         "105600.0"
        ],
        [
         "21",
         "179813",
         "E. Cavani",
         "31",
         "Uruguay",
         "89",
         "89",
         "Paris Saint-Germain",
         "60000.0",
         "200",
         "Right",
         "4.0",
         "3.0",
         "LS",
         "2013",
         "1/1/2020",
         "6.083333333333333",
         "170.0",
         "111000.0"
        ],
        [
         "22",
         "167495",
         "M. Neuer",
         "32",
         "Germany",
         "89",
         "89",
         "FC Bayern München",
         "38000.0",
         "130",
         "Right",
         "5.0",
         "1.0",
         "GK",
         "2011",
         "1/1/2021",
         "6.333333333333333",
         "203.0",
         "62700.0"
        ],
        [
         "23",
         "153079",
         "S. Agüero",
         "30",
         "Argentina",
         "89",
         "89",
         "Manchester City",
         "64500.0",
         "300",
         "Right",
         "4.0",
         "4.0",
         "ST",
         "2011",
         "1/1/2021",
         "5.666666666666667",
         "154.0",
         "119300.0"
        ],
        [
         "24",
         "138956",
         "G. Chiellini",
         "33",
         "Italy",
         "89",
         "89",
         "Juventus",
         "27000.0",
         "215",
         "Left",
         "4.0",
         "2.0",
         "LCB",
         "2005",
         "1/1/2020",
         "6.166666666666667",
         "187.0",
         "44600.0"
        ],
        [
         "25",
         "231747",
         "K. Mbappé",
         "19",
         "France",
         "88",
         "95",
         "Paris Saint-Germain",
         "81000.0",
         "100",
         "Right",
         "3.0",
         "5.0",
         "RM",
         "2018",
         "1/1/2022",
         "5.833333333333333",
         "161.0",
         "166100.0"
        ],
        [
         "26",
         "209331",
         "M. Salah",
         "26",
         "Egypt",
         "88",
         "89",
         "Liverpool",
         "69500.0",
         "255",
         "Left",
         "3.0",
         "4.0",
         "RM",
         "2017",
         "1/1/2023",
         "5.75",
         "157.0",
         "137300.0"
        ],
        [
         "27",
         "200145",
         "Casemiro",
         "26",
         "Brazil",
         "88",
         "90",
         "Real Madrid",
         "59500.0",
         "285",
         "Right",
         "3.0",
         "2.0",
         "CDM",
         "2013",
         "1/1/2021",
         "6.083333333333333",
         "185.0",
         "126400.0"
        ],
        [
         "28",
         "198710",
         "J. Rodríguez",
         "26",
         "Colombia",
         "88",
         "89",
         "FC Bayern München",
         "69500.0",
         "315",
         "Left",
         "4.0",
         "4.0",
         "LAM",
         "2016",
         "6/30/2019",
         "5.916666666666667",
         "172.0",
         "4585.06080634501"
        ],
        [
         "29",
         "198219",
         "L. Insigne",
         "27",
         "Italy",
         "88",
         "88",
         "Napoli",
         "62000.0",
         "165",
         "Right",
         "3.0",
         "4.0",
         "LW",
         "2010",
         "1/1/2022",
         "5.333333333333333",
         "130.0",
         "105400.0"
        ],
        [
         "30",
         "197781",
         "Isco",
         "26",
         "Spain",
         "88",
         "91",
         "Real Madrid",
         "73500.0",
         "315",
         "Right",
         "3.0",
         "4.0",
         "LW",
         "2013",
         "1/1/2022",
         "5.75",
         "174.0",
         "156200.0"
        ],
        [
         "31",
         "190460",
         "C. Eriksen",
         "26",
         "Denmark",
         "88",
         "91",
         "Tottenham Hotspur",
         "73500.0",
         "205",
         "Right",
         "3.0",
         "4.0",
         "CAM",
         "2013",
         "1/1/2020",
         "5.916666666666667",
         "168.0",
         "141500.0"
        ],
        [
         "32",
         "189242",
         "Coutinho",
         "26",
         "Brazil",
         "88",
         "89",
         "FC Barcelona",
         "69500.0",
         "340",
         "Right",
         "3.0",
         "5.0",
         "LW",
         "2018",
         "1/1/2023",
         "5.666666666666667",
         "150.0",
         "147700.0"
        ],
        [
         "33",
         "188567",
         "P. Aubameyang",
         "29",
         "Gabon",
         "88",
         "88",
         "Arsenal",
         "59000.0",
         "265",
         "Right",
         "3.0",
         "4.0",
         "LM",
         "2018",
         "1/1/2021",
         "6.166666666666667",
         "176.0",
         "112100.0"
        ],
        [
         "34",
         "178603",
         "M. Hummels",
         "29",
         "Germany",
         "88",
         "88",
         "FC Bayern München",
         "46000.0",
         "160",
         "Right",
         "4.0",
         "3.0",
         "LCB",
         "2016",
         "1/1/2021",
         "6.25",
         "203.0",
         "75900.0"
        ],
        [
         "35",
         "176676",
         "Marcelo",
         "30",
         "Brazil",
         "88",
         "88",
         "Real Madrid",
         "43000.0",
         "285",
         "Left",
         "4.0",
         "5.0",
         "LB",
         "2007",
         "1/1/2022",
         "5.75",
         "176.0",
         "88200.0"
        ],
        [
         "36",
         "173731",
         "G. Bale",
         "28",
         "Wales",
         "88",
         "88",
         "Real Madrid",
         "60000.0",
         "355",
         "Left",
         "4.0",
         "4.0",
         "ST",
         "2013",
         "1/1/2022",
         "6.083333333333333",
         "181.0",
         "123000.0"
        ],
        [
         "37",
         "167948",
         "H. Lloris",
         "31",
         "France",
         "88",
         "88",
         "Tottenham Hotspur",
         "36000.0",
         "150",
         "Left",
         "4.0",
         "1.0",
         "GK",
         "2012",
         "1/1/2022",
         "6.166666666666667",
         "181.0",
         "66600.0"
        ],
        [
         "38",
         "167664",
         "G. Higuaín",
         "30",
         "Argentina",
         "88",
         "88",
         "Milan",
         "57000.0",
         "245",
         "Right",
         "4.0",
         "3.0",
         "LS",
         "2016",
         "6/30/2019",
         "6.083333333333333",
         "196.0",
         "4585.06080634501"
        ],
        [
         "39",
         "164240",
         "Thiago Silva",
         "33",
         "Brazil",
         "88",
         "88",
         "Paris Saint-Germain",
         "24000.0",
         "165",
         "Right",
         "4.0",
         "2.0",
         "RCB",
         "2012",
         "1/1/2020",
         "6.0",
         "181.0",
         "44400.0"
        ],
        [
         "40",
         "162835",
         "S. Handanovic",
         "33",
         "Slovenia",
         "88",
         "88",
         "Inter",
         "30000.0",
         "110",
         "Right",
         "3.0",
         "1.0",
         "GK",
         "2012",
         "1/1/2021",
         "6.333333333333333",
         "203.0",
         "51000.0"
        ],
        [
         "41",
         "1179",
         "G. Buffon",
         "40",
         "Italy",
         "88",
         "88",
         "Paris Saint-Germain",
         "4000.0",
         "77",
         "Right",
         "4.0",
         "1.0",
         "GK",
         "2018",
         "1/1/2019",
         "6.333333333333333",
         "203.0",
         "7400.0"
        ],
        [
         "42",
         "205600",
         "S. Umtiti",
         "24",
         "France",
         "87",
         "92",
         "FC Barcelona",
         "57000.0",
         "205",
         "Left",
         "3.0",
         "2.0",
         "CB",
         "2016",
         "1/1/2023",
         "6.0",
         "165.0",
         "121100.0"
        ],
        [
         "43",
         "201399",
         "M. Icardi",
         "25",
         "Argentina",
         "87",
         "90",
         "Inter",
         "64500.0",
         "130",
         "Right",
         "3.0",
         "3.0",
         "ST",
         "2013",
         "1/1/2021",
         "5.916666666666667",
         "165.0",
         "114500.0"
        ],
        [
         "44",
         "201024",
         "K. Koulibaly",
         "27",
         "Senegal",
         "87",
         "90",
         "Napoli",
         "51000.0",
         "115",
         "Right",
         "3.0",
         "2.0",
         "LCB",
         "2014",
         "1/1/2021",
         "6.166666666666667",
         "196.0",
         "90500.0"
        ],
        [
         "45",
         "195864",
         "P. Pogba",
         "25",
         "France",
         "87",
         "91",
         "Manchester United",
         "64000.0",
         "210",
         "Right",
         "4.0",
         "5.0",
         "RDM",
         "2016",
         "1/1/2021",
         "6.333333333333333",
         "185.0",
         "123200.0"
        ],
        [
         "46",
         "193041",
         "K. Navas",
         "31",
         "Costa Rica",
         "87",
         "87",
         "Real Madrid",
         "30500.0",
         "195",
         "Right",
         "3.0",
         "1.0",
         "GK",
         "2014",
         "1/1/2020",
         "6.083333333333333",
         "176.0",
         "62500.0"
        ],
        [
         "47",
         "192505",
         "R. Lukaku",
         "25",
         "Belgium",
         "87",
         "89",
         "Manchester United",
         "62500.0",
         "230",
         "Left",
         "3.0",
         "3.0",
         "ST",
         "2017",
         "1/1/2022",
         "6.25",
         "207.0",
         "120300.0"
        ],
        [
         "48",
         "192387",
         "C. Immobile",
         "28",
         "Italy",
         "87",
         "87",
         "Lazio",
         "52000.0",
         "115",
         "Right",
         "3.0",
         "3.0",
         "ST",
         "2016",
         "1/1/2023",
         "6.083333333333333",
         "187.0",
         "88400.0"
        ],
        [
         "49",
         "189332",
         "Jordi Alba",
         "29",
         "Spain",
         "87",
         "87",
         "FC Barcelona",
         "38000.0",
         "250",
         "Left",
         "3.0",
         "3.0",
         "LB",
         "2012",
         "1/1/2020",
         "5.583333333333333",
         "150.0",
         "77900.0"
        ]
       ],
       "shape": {
        "columns": 18,
        "rows": 18207
       }
      },
      "text/html": [
       "<div>\n",
       "<style scoped>\n",
       "    .dataframe tbody tr th:only-of-type {\n",
       "        vertical-align: middle;\n",
       "    }\n",
       "\n",
       "    .dataframe tbody tr th {\n",
       "        vertical-align: top;\n",
       "    }\n",
       "\n",
       "    .dataframe thead th {\n",
       "        text-align: right;\n",
       "    }\n",
       "</style>\n",
       "<table border=\"1\" class=\"dataframe\">\n",
       "  <thead>\n",
       "    <tr style=\"text-align: right;\">\n",
       "      <th></th>\n",
       "      <th>ID</th>\n",
       "      <th>Name</th>\n",
       "      <th>Age</th>\n",
       "      <th>Nationality</th>\n",
       "      <th>Overall</th>\n",
       "      <th>Potential</th>\n",
       "      <th>Club</th>\n",
       "      <th>Value</th>\n",
       "      <th>Wage</th>\n",
       "      <th>Preferred Foot</th>\n",
       "      <th>International Reputation</th>\n",
       "      <th>Skill Moves</th>\n",
       "      <th>Position</th>\n",
       "      <th>Joined</th>\n",
       "      <th>Contract Valid Until</th>\n",
       "      <th>Height</th>\n",
       "      <th>Weight</th>\n",
       "      <th>Release Clause</th>\n",
       "    </tr>\n",
       "  </thead>\n",
       "  <tbody>\n",
       "    <tr>\n",
       "      <th>0</th>\n",
       "      <td>158023</td>\n",
       "      <td>L. Messi</td>\n",
       "      <td>31</td>\n",
       "      <td>Argentina</td>\n",
       "      <td>94</td>\n",
       "      <td>94</td>\n",
       "      <td>FC Barcelona</td>\n",
       "      <td>110500.0</td>\n",
       "      <td>565</td>\n",
       "      <td>Left</td>\n",
       "      <td>5.0</td>\n",
       "      <td>4.0</td>\n",
       "      <td>RF</td>\n",
       "      <td>2004</td>\n",
       "      <td>1/1/2021</td>\n",
       "      <td>5.583333</td>\n",
       "      <td>159.0</td>\n",
       "      <td>226500.0</td>\n",
       "    </tr>\n",
       "    <tr>\n",
       "      <th>1</th>\n",
       "      <td>20801</td>\n",
       "      <td>Cristiano Ronaldo</td>\n",
       "      <td>33</td>\n",
       "      <td>Portugal</td>\n",
       "      <td>94</td>\n",
       "      <td>94</td>\n",
       "      <td>Juventus</td>\n",
       "      <td>77000.0</td>\n",
       "      <td>405</td>\n",
       "      <td>Right</td>\n",
       "      <td>5.0</td>\n",
       "      <td>5.0</td>\n",
       "      <td>ST</td>\n",
       "      <td>2018</td>\n",
       "      <td>1/1/2022</td>\n",
       "      <td>6.166667</td>\n",
       "      <td>183.0</td>\n",
       "      <td>127100.0</td>\n",
       "    </tr>\n",
       "    <tr>\n",
       "      <th>2</th>\n",
       "      <td>190871</td>\n",
       "      <td>Neymar Jr</td>\n",
       "      <td>26</td>\n",
       "      <td>Brazil</td>\n",
       "      <td>92</td>\n",
       "      <td>93</td>\n",
       "      <td>Paris Saint-Germain</td>\n",
       "      <td>118500.0</td>\n",
       "      <td>290</td>\n",
       "      <td>Right</td>\n",
       "      <td>5.0</td>\n",
       "      <td>5.0</td>\n",
       "      <td>LW</td>\n",
       "      <td>2017</td>\n",
       "      <td>1/1/2022</td>\n",
       "      <td>5.750000</td>\n",
       "      <td>150.0</td>\n",
       "      <td>228100.0</td>\n",
       "    </tr>\n",
       "    <tr>\n",
       "      <th>3</th>\n",
       "      <td>193080</td>\n",
       "      <td>De Gea</td>\n",
       "      <td>27</td>\n",
       "      <td>Spain</td>\n",
       "      <td>91</td>\n",
       "      <td>93</td>\n",
       "      <td>Manchester United</td>\n",
       "      <td>72000.0</td>\n",
       "      <td>260</td>\n",
       "      <td>Right</td>\n",
       "      <td>4.0</td>\n",
       "      <td>1.0</td>\n",
       "      <td>GK</td>\n",
       "      <td>2011</td>\n",
       "      <td>1/1/2020</td>\n",
       "      <td>6.333333</td>\n",
       "      <td>168.0</td>\n",
       "      <td>138600.0</td>\n",
       "    </tr>\n",
       "    <tr>\n",
       "      <th>4</th>\n",
       "      <td>192985</td>\n",
       "      <td>K. De Bruyne</td>\n",
       "      <td>27</td>\n",
       "      <td>Belgium</td>\n",
       "      <td>91</td>\n",
       "      <td>92</td>\n",
       "      <td>Manchester City</td>\n",
       "      <td>102000.0</td>\n",
       "      <td>355</td>\n",
       "      <td>Right</td>\n",
       "      <td>4.0</td>\n",
       "      <td>4.0</td>\n",
       "      <td>RCM</td>\n",
       "      <td>2015</td>\n",
       "      <td>1/1/2023</td>\n",
       "      <td>5.916667</td>\n",
       "      <td>154.0</td>\n",
       "      <td>196400.0</td>\n",
       "    </tr>\n",
       "    <tr>\n",
       "      <th>...</th>\n",
       "      <td>...</td>\n",
       "      <td>...</td>\n",
       "      <td>...</td>\n",
       "      <td>...</td>\n",
       "      <td>...</td>\n",
       "      <td>...</td>\n",
       "      <td>...</td>\n",
       "      <td>...</td>\n",
       "      <td>...</td>\n",
       "      <td>...</td>\n",
       "      <td>...</td>\n",
       "      <td>...</td>\n",
       "      <td>...</td>\n",
       "      <td>...</td>\n",
       "      <td>...</td>\n",
       "      <td>...</td>\n",
       "      <td>...</td>\n",
       "      <td>...</td>\n",
       "    </tr>\n",
       "    <tr>\n",
       "      <th>18202</th>\n",
       "      <td>238813</td>\n",
       "      <td>J. Lundstram</td>\n",
       "      <td>19</td>\n",
       "      <td>England</td>\n",
       "      <td>47</td>\n",
       "      <td>65</td>\n",
       "      <td>Crewe Alexandra</td>\n",
       "      <td>60.0</td>\n",
       "      <td>1</td>\n",
       "      <td>Right</td>\n",
       "      <td>1.0</td>\n",
       "      <td>2.0</td>\n",
       "      <td>CM</td>\n",
       "      <td>2017</td>\n",
       "      <td>1/1/2019</td>\n",
       "      <td>5.750000</td>\n",
       "      <td>134.0</td>\n",
       "      <td>143.0</td>\n",
       "    </tr>\n",
       "    <tr>\n",
       "      <th>18203</th>\n",
       "      <td>243165</td>\n",
       "      <td>N. Christoffersson</td>\n",
       "      <td>19</td>\n",
       "      <td>Sweden</td>\n",
       "      <td>47</td>\n",
       "      <td>63</td>\n",
       "      <td>Trelleborgs FF</td>\n",
       "      <td>60.0</td>\n",
       "      <td>1</td>\n",
       "      <td>Right</td>\n",
       "      <td>1.0</td>\n",
       "      <td>2.0</td>\n",
       "      <td>ST</td>\n",
       "      <td>2018</td>\n",
       "      <td>1/1/2020</td>\n",
       "      <td>6.250000</td>\n",
       "      <td>170.0</td>\n",
       "      <td>113.0</td>\n",
       "    </tr>\n",
       "    <tr>\n",
       "      <th>18204</th>\n",
       "      <td>241638</td>\n",
       "      <td>B. Worman</td>\n",
       "      <td>16</td>\n",
       "      <td>England</td>\n",
       "      <td>47</td>\n",
       "      <td>67</td>\n",
       "      <td>Cambridge United</td>\n",
       "      <td>60.0</td>\n",
       "      <td>1</td>\n",
       "      <td>Right</td>\n",
       "      <td>1.0</td>\n",
       "      <td>2.0</td>\n",
       "      <td>ST</td>\n",
       "      <td>2017</td>\n",
       "      <td>1/1/2021</td>\n",
       "      <td>5.666667</td>\n",
       "      <td>148.0</td>\n",
       "      <td>165.0</td>\n",
       "    </tr>\n",
       "    <tr>\n",
       "      <th>18205</th>\n",
       "      <td>246268</td>\n",
       "      <td>D. Walker-Rice</td>\n",
       "      <td>17</td>\n",
       "      <td>England</td>\n",
       "      <td>47</td>\n",
       "      <td>66</td>\n",
       "      <td>Tranmere Rovers</td>\n",
       "      <td>60.0</td>\n",
       "      <td>1</td>\n",
       "      <td>Right</td>\n",
       "      <td>1.0</td>\n",
       "      <td>2.0</td>\n",
       "      <td>RW</td>\n",
       "      <td>2018</td>\n",
       "      <td>1/1/2019</td>\n",
       "      <td>5.833333</td>\n",
       "      <td>154.0</td>\n",
       "      <td>143.0</td>\n",
       "    </tr>\n",
       "    <tr>\n",
       "      <th>18206</th>\n",
       "      <td>246269</td>\n",
       "      <td>G. Nugent</td>\n",
       "      <td>16</td>\n",
       "      <td>England</td>\n",
       "      <td>46</td>\n",
       "      <td>66</td>\n",
       "      <td>Tranmere Rovers</td>\n",
       "      <td>60.0</td>\n",
       "      <td>1</td>\n",
       "      <td>Right</td>\n",
       "      <td>1.0</td>\n",
       "      <td>2.0</td>\n",
       "      <td>CM</td>\n",
       "      <td>2018</td>\n",
       "      <td>1/1/2019</td>\n",
       "      <td>5.833333</td>\n",
       "      <td>176.0</td>\n",
       "      <td>165.0</td>\n",
       "    </tr>\n",
       "  </tbody>\n",
       "</table>\n",
       "<p>18207 rows × 18 columns</p>\n",
       "</div>"
      ],
      "text/plain": [
       "           ID                Name  Age Nationality  Overall  Potential  \\\n",
       "0      158023            L. Messi   31   Argentina       94         94   \n",
       "1       20801   Cristiano Ronaldo   33    Portugal       94         94   \n",
       "2      190871           Neymar Jr   26      Brazil       92         93   \n",
       "3      193080              De Gea   27       Spain       91         93   \n",
       "4      192985        K. De Bruyne   27     Belgium       91         92   \n",
       "...       ...                 ...  ...         ...      ...        ...   \n",
       "18202  238813        J. Lundstram   19     England       47         65   \n",
       "18203  243165  N. Christoffersson   19      Sweden       47         63   \n",
       "18204  241638           B. Worman   16     England       47         67   \n",
       "18205  246268      D. Walker-Rice   17     England       47         66   \n",
       "18206  246269           G. Nugent   16     England       46         66   \n",
       "\n",
       "                      Club     Value  Wage Preferred Foot  \\\n",
       "0             FC Barcelona  110500.0   565           Left   \n",
       "1                 Juventus   77000.0   405          Right   \n",
       "2      Paris Saint-Germain  118500.0   290          Right   \n",
       "3        Manchester United   72000.0   260          Right   \n",
       "4          Manchester City  102000.0   355          Right   \n",
       "...                    ...       ...   ...            ...   \n",
       "18202      Crewe Alexandra      60.0     1          Right   \n",
       "18203       Trelleborgs FF      60.0     1          Right   \n",
       "18204     Cambridge United      60.0     1          Right   \n",
       "18205      Tranmere Rovers      60.0     1          Right   \n",
       "18206      Tranmere Rovers      60.0     1          Right   \n",
       "\n",
       "       International Reputation  Skill Moves Position  Joined  \\\n",
       "0                           5.0          4.0       RF    2004   \n",
       "1                           5.0          5.0       ST    2018   \n",
       "2                           5.0          5.0       LW    2017   \n",
       "3                           4.0          1.0       GK    2011   \n",
       "4                           4.0          4.0      RCM    2015   \n",
       "...                         ...          ...      ...     ...   \n",
       "18202                       1.0          2.0       CM    2017   \n",
       "18203                       1.0          2.0       ST    2018   \n",
       "18204                       1.0          2.0       ST    2017   \n",
       "18205                       1.0          2.0       RW    2018   \n",
       "18206                       1.0          2.0       CM    2018   \n",
       "\n",
       "      Contract Valid Until    Height  Weight  Release Clause  \n",
       "0                 1/1/2021  5.583333   159.0        226500.0  \n",
       "1                 1/1/2022  6.166667   183.0        127100.0  \n",
       "2                 1/1/2022  5.750000   150.0        228100.0  \n",
       "3                 1/1/2020  6.333333   168.0        138600.0  \n",
       "4                 1/1/2023  5.916667   154.0        196400.0  \n",
       "...                    ...       ...     ...             ...  \n",
       "18202             1/1/2019  5.750000   134.0           143.0  \n",
       "18203             1/1/2020  6.250000   170.0           113.0  \n",
       "18204             1/1/2021  5.666667   148.0           165.0  \n",
       "18205             1/1/2019  5.833333   154.0           143.0  \n",
       "18206             1/1/2019  5.833333   176.0           165.0  \n",
       "\n",
       "[18207 rows x 18 columns]"
      ]
     },
     "execution_count": 2,
     "metadata": {},
     "output_type": "execute_result"
    }
   ],
   "source": [
    "df = pd.read_csv('fifa_eda.csv',encoding='latin1')\n",
    "df"
   ]
  },
  {
   "cell_type": "markdown",
   "metadata": {},
   "source": [
    "**Check the head of the DataFrame.**"
   ]
  },
  {
   "cell_type": "code",
   "execution_count": 3,
   "metadata": {},
   "outputs": [
    {
     "data": {
      "text/plain": [
       "Index(['ID', 'Name', 'Age', 'Nationality', 'Overall', 'Potential', 'Club',\n",
       "       'Value', 'Wage', 'Preferred Foot', 'International Reputation',\n",
       "       'Skill Moves', 'Position', 'Joined', 'Contract Valid Until', 'Height',\n",
       "       'Weight', 'Release Clause'],\n",
       "      dtype='object')"
      ]
     },
     "execution_count": 3,
     "metadata": {},
     "output_type": "execute_result"
    }
   ],
   "source": [
    "df.columns"
   ]
  },
  {
   "cell_type": "code",
   "execution_count": 4,
   "metadata": {},
   "outputs": [
    {
     "data": {
      "application/vnd.microsoft.datawrangler.viewer.v0+json": {
       "columns": [
        {
         "name": "index",
         "rawType": "int64",
         "type": "integer"
        },
        {
         "name": "id",
         "rawType": "int64",
         "type": "integer"
        },
        {
         "name": "name",
         "rawType": "object",
         "type": "string"
        },
        {
         "name": "age",
         "rawType": "int64",
         "type": "integer"
        },
        {
         "name": "nationality",
         "rawType": "object",
         "type": "string"
        },
        {
         "name": "overall",
         "rawType": "int64",
         "type": "integer"
        },
        {
         "name": "potential",
         "rawType": "int64",
         "type": "integer"
        },
        {
         "name": "club",
         "rawType": "object",
         "type": "unknown"
        },
        {
         "name": "value",
         "rawType": "float64",
         "type": "float"
        },
        {
         "name": "wage",
         "rawType": "int64",
         "type": "integer"
        },
        {
         "name": "preferred_foot",
         "rawType": "object",
         "type": "string"
        },
        {
         "name": "international_reputation",
         "rawType": "float64",
         "type": "float"
        },
        {
         "name": "skill_moves",
         "rawType": "float64",
         "type": "float"
        },
        {
         "name": "position",
         "rawType": "object",
         "type": "string"
        },
        {
         "name": "joined",
         "rawType": "int64",
         "type": "integer"
        },
        {
         "name": "contract_valid_until",
         "rawType": "object",
         "type": "unknown"
        },
        {
         "name": "height",
         "rawType": "float64",
         "type": "float"
        },
        {
         "name": "weight",
         "rawType": "float64",
         "type": "float"
        },
        {
         "name": "release_clause",
         "rawType": "float64",
         "type": "float"
        }
       ],
       "ref": "85e875b3-e17b-46b4-9c6a-f58354e7bf2e",
       "rows": [
        [
         "0",
         "158023",
         "L. Messi",
         "31",
         "Argentina",
         "94",
         "94",
         "FC Barcelona",
         "110500.0",
         "565",
         "Left",
         "5.0",
         "4.0",
         "RF",
         "2004",
         "1/1/2021",
         "5.583333333333333",
         "159.0",
         "226500.0"
        ],
        [
         "1",
         "20801",
         "Cristiano Ronaldo",
         "33",
         "Portugal",
         "94",
         "94",
         "Juventus",
         "77000.0",
         "405",
         "Right",
         "5.0",
         "5.0",
         "ST",
         "2018",
         "1/1/2022",
         "6.166666666666667",
         "183.0",
         "127100.0"
        ],
        [
         "2",
         "190871",
         "Neymar Jr",
         "26",
         "Brazil",
         "92",
         "93",
         "Paris Saint-Germain",
         "118500.0",
         "290",
         "Right",
         "5.0",
         "5.0",
         "LW",
         "2017",
         "1/1/2022",
         "5.75",
         "150.0",
         "228100.0"
        ],
        [
         "3",
         "193080",
         "De Gea",
         "27",
         "Spain",
         "91",
         "93",
         "Manchester United",
         "72000.0",
         "260",
         "Right",
         "4.0",
         "1.0",
         "GK",
         "2011",
         "1/1/2020",
         "6.333333333333333",
         "168.0",
         "138600.0"
        ],
        [
         "4",
         "192985",
         "K. De Bruyne",
         "27",
         "Belgium",
         "91",
         "92",
         "Manchester City",
         "102000.0",
         "355",
         "Right",
         "4.0",
         "4.0",
         "RCM",
         "2015",
         "1/1/2023",
         "5.916666666666667",
         "154.0",
         "196400.0"
        ],
        [
         "5",
         "183277",
         "E. Hazard",
         "27",
         "Belgium",
         "91",
         "91",
         "Chelsea",
         "93000.0",
         "340",
         "Right",
         "4.0",
         "4.0",
         "LF",
         "2012",
         "1/1/2020",
         "5.666666666666667",
         "163.0",
         "172100.0"
        ],
        [
         "6",
         "177003",
         "L. Modric",
         "32",
         "Croatia",
         "91",
         "91",
         "Real Madrid",
         "67000.0",
         "420",
         "Right",
         "4.0",
         "4.0",
         "RCM",
         "2012",
         "1/1/2020",
         "5.666666666666667",
         "146.0",
         "137400.0"
        ],
        [
         "7",
         "176580",
         "L. Suárez",
         "31",
         "Uruguay",
         "91",
         "91",
         "FC Barcelona",
         "80000.0",
         "455",
         "Right",
         "5.0",
         "3.0",
         "RS",
         "2014",
         "1/1/2021",
         "6.0",
         "190.0",
         "164000.0"
        ],
        [
         "8",
         "155862",
         "Sergio Ramos",
         "32",
         "Spain",
         "91",
         "91",
         "Real Madrid",
         "51000.0",
         "380",
         "Right",
         "4.0",
         "3.0",
         "RCB",
         "2005",
         "1/1/2020",
         "6.0",
         "181.0",
         "104600.0"
        ],
        [
         "9",
         "200389",
         "J. Oblak",
         "25",
         "Slovenia",
         "90",
         "93",
         "Atlético Madrid",
         "68000.0",
         "94",
         "Right",
         "3.0",
         "1.0",
         "GK",
         "2014",
         "1/1/2021",
         "6.166666666666667",
         "192.0",
         "144500.0"
        ],
        [
         "10",
         "188545",
         "R. Lewandowski",
         "29",
         "Poland",
         "90",
         "90",
         "FC Bayern München",
         "77000.0",
         "205",
         "Right",
         "4.0",
         "4.0",
         "ST",
         "2014",
         "1/1/2021",
         "6.0",
         "176.0",
         "127100.0"
        ],
        [
         "11",
         "182521",
         "T. Kroos",
         "28",
         "Germany",
         "90",
         "90",
         "Real Madrid",
         "76500.0",
         "355",
         "Right",
         "4.0",
         "3.0",
         "LCM",
         "2014",
         "1/1/2022",
         "6.0",
         "168.0",
         "156800.0"
        ],
        [
         "12",
         "182493",
         "D. Godín",
         "32",
         "Uruguay",
         "90",
         "90",
         "Atlético Madrid",
         "44000.0",
         "125",
         "Right",
         "3.0",
         "2.0",
         "CB",
         "2010",
         "1/1/2019",
         "6.166666666666667",
         "172.0",
         "90200.0"
        ],
        [
         "13",
         "168542",
         "David Silva",
         "32",
         "Spain",
         "90",
         "90",
         "Manchester City",
         "60000.0",
         "285",
         "Left",
         "4.0",
         "4.0",
         "LCM",
         "2010",
         "1/1/2020",
         "5.666666666666667",
         "148.0",
         "111000.0"
        ],
        [
         "14",
         "215914",
         "N. Kanté",
         "27",
         "France",
         "89",
         "90",
         "Chelsea",
         "63000.0",
         "225",
         "Right",
         "3.0",
         "2.0",
         "LDM",
         "2016",
         "1/1/2023",
         "5.5",
         "159.0",
         "121300.0"
        ],
        [
         "15",
         "211110",
         "P. Dybala",
         "24",
         "Argentina",
         "89",
         "94",
         "Juventus",
         "89000.0",
         "205",
         "Left",
         "3.0",
         "4.0",
         "LF",
         "2015",
         "1/1/2022",
         "5.833333333333333",
         "165.0",
         "153500.0"
        ],
        [
         "16",
         "202126",
         "H. Kane",
         "24",
         "England",
         "89",
         "91",
         "Tottenham Hotspur",
         "83500.0",
         "205",
         "Right",
         "3.0",
         "3.0",
         "ST",
         "2010",
         "1/1/2024",
         "6.166666666666667",
         "196.0",
         "160700.0"
        ],
        [
         "17",
         "194765",
         "A. Griezmann",
         "27",
         "France",
         "89",
         "90",
         "Atlético Madrid",
         "78000.0",
         "145",
         "Left",
         "4.0",
         "4.0",
         "CAM",
         "2014",
         "1/1/2023",
         "5.75",
         "161.0",
         "165800.0"
        ],
        [
         "18",
         "192448",
         "M. ter Stegen",
         "26",
         "Germany",
         "89",
         "92",
         "FC Barcelona",
         "58000.0",
         "240",
         "Right",
         "3.0",
         "1.0",
         "GK",
         "2014",
         "1/1/2022",
         "6.166666666666667",
         "187.0",
         "123300.0"
        ],
        [
         "19",
         "192119",
         "T. Courtois",
         "26",
         "Belgium",
         "89",
         "90",
         "Real Madrid",
         "53500.0",
         "240",
         "Left",
         "4.0",
         "1.0",
         "GK",
         "2018",
         "1/1/2024",
         "6.5",
         "212.0",
         "113700.0"
        ],
        [
         "20",
         "189511",
         "Sergio Busquets",
         "29",
         "Spain",
         "89",
         "89",
         "FC Barcelona",
         "51500.0",
         "315",
         "Right",
         "4.0",
         "3.0",
         "CDM",
         "2008",
         "1/1/2023",
         "6.166666666666667",
         "168.0",
         "105600.0"
        ],
        [
         "21",
         "179813",
         "E. Cavani",
         "31",
         "Uruguay",
         "89",
         "89",
         "Paris Saint-Germain",
         "60000.0",
         "200",
         "Right",
         "4.0",
         "3.0",
         "LS",
         "2013",
         "1/1/2020",
         "6.083333333333333",
         "170.0",
         "111000.0"
        ],
        [
         "22",
         "167495",
         "M. Neuer",
         "32",
         "Germany",
         "89",
         "89",
         "FC Bayern München",
         "38000.0",
         "130",
         "Right",
         "5.0",
         "1.0",
         "GK",
         "2011",
         "1/1/2021",
         "6.333333333333333",
         "203.0",
         "62700.0"
        ],
        [
         "23",
         "153079",
         "S. Agüero",
         "30",
         "Argentina",
         "89",
         "89",
         "Manchester City",
         "64500.0",
         "300",
         "Right",
         "4.0",
         "4.0",
         "ST",
         "2011",
         "1/1/2021",
         "5.666666666666667",
         "154.0",
         "119300.0"
        ],
        [
         "24",
         "138956",
         "G. Chiellini",
         "33",
         "Italy",
         "89",
         "89",
         "Juventus",
         "27000.0",
         "215",
         "Left",
         "4.0",
         "2.0",
         "LCB",
         "2005",
         "1/1/2020",
         "6.166666666666667",
         "187.0",
         "44600.0"
        ],
        [
         "25",
         "231747",
         "K. Mbappé",
         "19",
         "France",
         "88",
         "95",
         "Paris Saint-Germain",
         "81000.0",
         "100",
         "Right",
         "3.0",
         "5.0",
         "RM",
         "2018",
         "1/1/2022",
         "5.833333333333333",
         "161.0",
         "166100.0"
        ],
        [
         "26",
         "209331",
         "M. Salah",
         "26",
         "Egypt",
         "88",
         "89",
         "Liverpool",
         "69500.0",
         "255",
         "Left",
         "3.0",
         "4.0",
         "RM",
         "2017",
         "1/1/2023",
         "5.75",
         "157.0",
         "137300.0"
        ],
        [
         "27",
         "200145",
         "Casemiro",
         "26",
         "Brazil",
         "88",
         "90",
         "Real Madrid",
         "59500.0",
         "285",
         "Right",
         "3.0",
         "2.0",
         "CDM",
         "2013",
         "1/1/2021",
         "6.083333333333333",
         "185.0",
         "126400.0"
        ],
        [
         "28",
         "198710",
         "J. Rodríguez",
         "26",
         "Colombia",
         "88",
         "89",
         "FC Bayern München",
         "69500.0",
         "315",
         "Left",
         "4.0",
         "4.0",
         "LAM",
         "2016",
         "6/30/2019",
         "5.916666666666667",
         "172.0",
         "4585.06080634501"
        ],
        [
         "29",
         "198219",
         "L. Insigne",
         "27",
         "Italy",
         "88",
         "88",
         "Napoli",
         "62000.0",
         "165",
         "Right",
         "3.0",
         "4.0",
         "LW",
         "2010",
         "1/1/2022",
         "5.333333333333333",
         "130.0",
         "105400.0"
        ],
        [
         "30",
         "197781",
         "Isco",
         "26",
         "Spain",
         "88",
         "91",
         "Real Madrid",
         "73500.0",
         "315",
         "Right",
         "3.0",
         "4.0",
         "LW",
         "2013",
         "1/1/2022",
         "5.75",
         "174.0",
         "156200.0"
        ],
        [
         "31",
         "190460",
         "C. Eriksen",
         "26",
         "Denmark",
         "88",
         "91",
         "Tottenham Hotspur",
         "73500.0",
         "205",
         "Right",
         "3.0",
         "4.0",
         "CAM",
         "2013",
         "1/1/2020",
         "5.916666666666667",
         "168.0",
         "141500.0"
        ],
        [
         "32",
         "189242",
         "Coutinho",
         "26",
         "Brazil",
         "88",
         "89",
         "FC Barcelona",
         "69500.0",
         "340",
         "Right",
         "3.0",
         "5.0",
         "LW",
         "2018",
         "1/1/2023",
         "5.666666666666667",
         "150.0",
         "147700.0"
        ],
        [
         "33",
         "188567",
         "P. Aubameyang",
         "29",
         "Gabon",
         "88",
         "88",
         "Arsenal",
         "59000.0",
         "265",
         "Right",
         "3.0",
         "4.0",
         "LM",
         "2018",
         "1/1/2021",
         "6.166666666666667",
         "176.0",
         "112100.0"
        ],
        [
         "34",
         "178603",
         "M. Hummels",
         "29",
         "Germany",
         "88",
         "88",
         "FC Bayern München",
         "46000.0",
         "160",
         "Right",
         "4.0",
         "3.0",
         "LCB",
         "2016",
         "1/1/2021",
         "6.25",
         "203.0",
         "75900.0"
        ],
        [
         "35",
         "176676",
         "Marcelo",
         "30",
         "Brazil",
         "88",
         "88",
         "Real Madrid",
         "43000.0",
         "285",
         "Left",
         "4.0",
         "5.0",
         "LB",
         "2007",
         "1/1/2022",
         "5.75",
         "176.0",
         "88200.0"
        ],
        [
         "36",
         "173731",
         "G. Bale",
         "28",
         "Wales",
         "88",
         "88",
         "Real Madrid",
         "60000.0",
         "355",
         "Left",
         "4.0",
         "4.0",
         "ST",
         "2013",
         "1/1/2022",
         "6.083333333333333",
         "181.0",
         "123000.0"
        ],
        [
         "37",
         "167948",
         "H. Lloris",
         "31",
         "France",
         "88",
         "88",
         "Tottenham Hotspur",
         "36000.0",
         "150",
         "Left",
         "4.0",
         "1.0",
         "GK",
         "2012",
         "1/1/2022",
         "6.166666666666667",
         "181.0",
         "66600.0"
        ],
        [
         "38",
         "167664",
         "G. Higuaín",
         "30",
         "Argentina",
         "88",
         "88",
         "Milan",
         "57000.0",
         "245",
         "Right",
         "4.0",
         "3.0",
         "LS",
         "2016",
         "6/30/2019",
         "6.083333333333333",
         "196.0",
         "4585.06080634501"
        ],
        [
         "39",
         "164240",
         "Thiago Silva",
         "33",
         "Brazil",
         "88",
         "88",
         "Paris Saint-Germain",
         "24000.0",
         "165",
         "Right",
         "4.0",
         "2.0",
         "RCB",
         "2012",
         "1/1/2020",
         "6.0",
         "181.0",
         "44400.0"
        ],
        [
         "40",
         "162835",
         "S. Handanovic",
         "33",
         "Slovenia",
         "88",
         "88",
         "Inter",
         "30000.0",
         "110",
         "Right",
         "3.0",
         "1.0",
         "GK",
         "2012",
         "1/1/2021",
         "6.333333333333333",
         "203.0",
         "51000.0"
        ],
        [
         "41",
         "1179",
         "G. Buffon",
         "40",
         "Italy",
         "88",
         "88",
         "Paris Saint-Germain",
         "4000.0",
         "77",
         "Right",
         "4.0",
         "1.0",
         "GK",
         "2018",
         "1/1/2019",
         "6.333333333333333",
         "203.0",
         "7400.0"
        ],
        [
         "42",
         "205600",
         "S. Umtiti",
         "24",
         "France",
         "87",
         "92",
         "FC Barcelona",
         "57000.0",
         "205",
         "Left",
         "3.0",
         "2.0",
         "CB",
         "2016",
         "1/1/2023",
         "6.0",
         "165.0",
         "121100.0"
        ],
        [
         "43",
         "201399",
         "M. Icardi",
         "25",
         "Argentina",
         "87",
         "90",
         "Inter",
         "64500.0",
         "130",
         "Right",
         "3.0",
         "3.0",
         "ST",
         "2013",
         "1/1/2021",
         "5.916666666666667",
         "165.0",
         "114500.0"
        ],
        [
         "44",
         "201024",
         "K. Koulibaly",
         "27",
         "Senegal",
         "87",
         "90",
         "Napoli",
         "51000.0",
         "115",
         "Right",
         "3.0",
         "2.0",
         "LCB",
         "2014",
         "1/1/2021",
         "6.166666666666667",
         "196.0",
         "90500.0"
        ],
        [
         "45",
         "195864",
         "P. Pogba",
         "25",
         "France",
         "87",
         "91",
         "Manchester United",
         "64000.0",
         "210",
         "Right",
         "4.0",
         "5.0",
         "RDM",
         "2016",
         "1/1/2021",
         "6.333333333333333",
         "185.0",
         "123200.0"
        ],
        [
         "46",
         "193041",
         "K. Navas",
         "31",
         "Costa Rica",
         "87",
         "87",
         "Real Madrid",
         "30500.0",
         "195",
         "Right",
         "3.0",
         "1.0",
         "GK",
         "2014",
         "1/1/2020",
         "6.083333333333333",
         "176.0",
         "62500.0"
        ],
        [
         "47",
         "192505",
         "R. Lukaku",
         "25",
         "Belgium",
         "87",
         "89",
         "Manchester United",
         "62500.0",
         "230",
         "Left",
         "3.0",
         "3.0",
         "ST",
         "2017",
         "1/1/2022",
         "6.25",
         "207.0",
         "120300.0"
        ],
        [
         "48",
         "192387",
         "C. Immobile",
         "28",
         "Italy",
         "87",
         "87",
         "Lazio",
         "52000.0",
         "115",
         "Right",
         "3.0",
         "3.0",
         "ST",
         "2016",
         "1/1/2023",
         "6.083333333333333",
         "187.0",
         "88400.0"
        ],
        [
         "49",
         "189332",
         "Jordi Alba",
         "29",
         "Spain",
         "87",
         "87",
         "FC Barcelona",
         "38000.0",
         "250",
         "Left",
         "3.0",
         "3.0",
         "LB",
         "2012",
         "1/1/2020",
         "5.583333333333333",
         "150.0",
         "77900.0"
        ]
       ],
       "shape": {
        "columns": 18,
        "rows": 18207
       }
      },
      "text/html": [
       "<div>\n",
       "<style scoped>\n",
       "    .dataframe tbody tr th:only-of-type {\n",
       "        vertical-align: middle;\n",
       "    }\n",
       "\n",
       "    .dataframe tbody tr th {\n",
       "        vertical-align: top;\n",
       "    }\n",
       "\n",
       "    .dataframe thead th {\n",
       "        text-align: right;\n",
       "    }\n",
       "</style>\n",
       "<table border=\"1\" class=\"dataframe\">\n",
       "  <thead>\n",
       "    <tr style=\"text-align: right;\">\n",
       "      <th></th>\n",
       "      <th>id</th>\n",
       "      <th>name</th>\n",
       "      <th>age</th>\n",
       "      <th>nationality</th>\n",
       "      <th>overall</th>\n",
       "      <th>potential</th>\n",
       "      <th>club</th>\n",
       "      <th>value</th>\n",
       "      <th>wage</th>\n",
       "      <th>preferred_foot</th>\n",
       "      <th>international_reputation</th>\n",
       "      <th>skill_moves</th>\n",
       "      <th>position</th>\n",
       "      <th>joined</th>\n",
       "      <th>contract_valid_until</th>\n",
       "      <th>height</th>\n",
       "      <th>weight</th>\n",
       "      <th>release_clause</th>\n",
       "    </tr>\n",
       "  </thead>\n",
       "  <tbody>\n",
       "    <tr>\n",
       "      <th>0</th>\n",
       "      <td>158023</td>\n",
       "      <td>L. Messi</td>\n",
       "      <td>31</td>\n",
       "      <td>Argentina</td>\n",
       "      <td>94</td>\n",
       "      <td>94</td>\n",
       "      <td>FC Barcelona</td>\n",
       "      <td>110500.0</td>\n",
       "      <td>565</td>\n",
       "      <td>Left</td>\n",
       "      <td>5.0</td>\n",
       "      <td>4.0</td>\n",
       "      <td>RF</td>\n",
       "      <td>2004</td>\n",
       "      <td>1/1/2021</td>\n",
       "      <td>5.583333</td>\n",
       "      <td>159.0</td>\n",
       "      <td>226500.0</td>\n",
       "    </tr>\n",
       "    <tr>\n",
       "      <th>1</th>\n",
       "      <td>20801</td>\n",
       "      <td>Cristiano Ronaldo</td>\n",
       "      <td>33</td>\n",
       "      <td>Portugal</td>\n",
       "      <td>94</td>\n",
       "      <td>94</td>\n",
       "      <td>Juventus</td>\n",
       "      <td>77000.0</td>\n",
       "      <td>405</td>\n",
       "      <td>Right</td>\n",
       "      <td>5.0</td>\n",
       "      <td>5.0</td>\n",
       "      <td>ST</td>\n",
       "      <td>2018</td>\n",
       "      <td>1/1/2022</td>\n",
       "      <td>6.166667</td>\n",
       "      <td>183.0</td>\n",
       "      <td>127100.0</td>\n",
       "    </tr>\n",
       "    <tr>\n",
       "      <th>2</th>\n",
       "      <td>190871</td>\n",
       "      <td>Neymar Jr</td>\n",
       "      <td>26</td>\n",
       "      <td>Brazil</td>\n",
       "      <td>92</td>\n",
       "      <td>93</td>\n",
       "      <td>Paris Saint-Germain</td>\n",
       "      <td>118500.0</td>\n",
       "      <td>290</td>\n",
       "      <td>Right</td>\n",
       "      <td>5.0</td>\n",
       "      <td>5.0</td>\n",
       "      <td>LW</td>\n",
       "      <td>2017</td>\n",
       "      <td>1/1/2022</td>\n",
       "      <td>5.750000</td>\n",
       "      <td>150.0</td>\n",
       "      <td>228100.0</td>\n",
       "    </tr>\n",
       "    <tr>\n",
       "      <th>3</th>\n",
       "      <td>193080</td>\n",
       "      <td>De Gea</td>\n",
       "      <td>27</td>\n",
       "      <td>Spain</td>\n",
       "      <td>91</td>\n",
       "      <td>93</td>\n",
       "      <td>Manchester United</td>\n",
       "      <td>72000.0</td>\n",
       "      <td>260</td>\n",
       "      <td>Right</td>\n",
       "      <td>4.0</td>\n",
       "      <td>1.0</td>\n",
       "      <td>GK</td>\n",
       "      <td>2011</td>\n",
       "      <td>1/1/2020</td>\n",
       "      <td>6.333333</td>\n",
       "      <td>168.0</td>\n",
       "      <td>138600.0</td>\n",
       "    </tr>\n",
       "    <tr>\n",
       "      <th>4</th>\n",
       "      <td>192985</td>\n",
       "      <td>K. De Bruyne</td>\n",
       "      <td>27</td>\n",
       "      <td>Belgium</td>\n",
       "      <td>91</td>\n",
       "      <td>92</td>\n",
       "      <td>Manchester City</td>\n",
       "      <td>102000.0</td>\n",
       "      <td>355</td>\n",
       "      <td>Right</td>\n",
       "      <td>4.0</td>\n",
       "      <td>4.0</td>\n",
       "      <td>RCM</td>\n",
       "      <td>2015</td>\n",
       "      <td>1/1/2023</td>\n",
       "      <td>5.916667</td>\n",
       "      <td>154.0</td>\n",
       "      <td>196400.0</td>\n",
       "    </tr>\n",
       "    <tr>\n",
       "      <th>...</th>\n",
       "      <td>...</td>\n",
       "      <td>...</td>\n",
       "      <td>...</td>\n",
       "      <td>...</td>\n",
       "      <td>...</td>\n",
       "      <td>...</td>\n",
       "      <td>...</td>\n",
       "      <td>...</td>\n",
       "      <td>...</td>\n",
       "      <td>...</td>\n",
       "      <td>...</td>\n",
       "      <td>...</td>\n",
       "      <td>...</td>\n",
       "      <td>...</td>\n",
       "      <td>...</td>\n",
       "      <td>...</td>\n",
       "      <td>...</td>\n",
       "      <td>...</td>\n",
       "    </tr>\n",
       "    <tr>\n",
       "      <th>18202</th>\n",
       "      <td>238813</td>\n",
       "      <td>J. Lundstram</td>\n",
       "      <td>19</td>\n",
       "      <td>England</td>\n",
       "      <td>47</td>\n",
       "      <td>65</td>\n",
       "      <td>Crewe Alexandra</td>\n",
       "      <td>60.0</td>\n",
       "      <td>1</td>\n",
       "      <td>Right</td>\n",
       "      <td>1.0</td>\n",
       "      <td>2.0</td>\n",
       "      <td>CM</td>\n",
       "      <td>2017</td>\n",
       "      <td>1/1/2019</td>\n",
       "      <td>5.750000</td>\n",
       "      <td>134.0</td>\n",
       "      <td>143.0</td>\n",
       "    </tr>\n",
       "    <tr>\n",
       "      <th>18203</th>\n",
       "      <td>243165</td>\n",
       "      <td>N. Christoffersson</td>\n",
       "      <td>19</td>\n",
       "      <td>Sweden</td>\n",
       "      <td>47</td>\n",
       "      <td>63</td>\n",
       "      <td>Trelleborgs FF</td>\n",
       "      <td>60.0</td>\n",
       "      <td>1</td>\n",
       "      <td>Right</td>\n",
       "      <td>1.0</td>\n",
       "      <td>2.0</td>\n",
       "      <td>ST</td>\n",
       "      <td>2018</td>\n",
       "      <td>1/1/2020</td>\n",
       "      <td>6.250000</td>\n",
       "      <td>170.0</td>\n",
       "      <td>113.0</td>\n",
       "    </tr>\n",
       "    <tr>\n",
       "      <th>18204</th>\n",
       "      <td>241638</td>\n",
       "      <td>B. Worman</td>\n",
       "      <td>16</td>\n",
       "      <td>England</td>\n",
       "      <td>47</td>\n",
       "      <td>67</td>\n",
       "      <td>Cambridge United</td>\n",
       "      <td>60.0</td>\n",
       "      <td>1</td>\n",
       "      <td>Right</td>\n",
       "      <td>1.0</td>\n",
       "      <td>2.0</td>\n",
       "      <td>ST</td>\n",
       "      <td>2017</td>\n",
       "      <td>1/1/2021</td>\n",
       "      <td>5.666667</td>\n",
       "      <td>148.0</td>\n",
       "      <td>165.0</td>\n",
       "    </tr>\n",
       "    <tr>\n",
       "      <th>18205</th>\n",
       "      <td>246268</td>\n",
       "      <td>D. Walker-Rice</td>\n",
       "      <td>17</td>\n",
       "      <td>England</td>\n",
       "      <td>47</td>\n",
       "      <td>66</td>\n",
       "      <td>Tranmere Rovers</td>\n",
       "      <td>60.0</td>\n",
       "      <td>1</td>\n",
       "      <td>Right</td>\n",
       "      <td>1.0</td>\n",
       "      <td>2.0</td>\n",
       "      <td>RW</td>\n",
       "      <td>2018</td>\n",
       "      <td>1/1/2019</td>\n",
       "      <td>5.833333</td>\n",
       "      <td>154.0</td>\n",
       "      <td>143.0</td>\n",
       "    </tr>\n",
       "    <tr>\n",
       "      <th>18206</th>\n",
       "      <td>246269</td>\n",
       "      <td>G. Nugent</td>\n",
       "      <td>16</td>\n",
       "      <td>England</td>\n",
       "      <td>46</td>\n",
       "      <td>66</td>\n",
       "      <td>Tranmere Rovers</td>\n",
       "      <td>60.0</td>\n",
       "      <td>1</td>\n",
       "      <td>Right</td>\n",
       "      <td>1.0</td>\n",
       "      <td>2.0</td>\n",
       "      <td>CM</td>\n",
       "      <td>2018</td>\n",
       "      <td>1/1/2019</td>\n",
       "      <td>5.833333</td>\n",
       "      <td>176.0</td>\n",
       "      <td>165.0</td>\n",
       "    </tr>\n",
       "  </tbody>\n",
       "</table>\n",
       "<p>18207 rows × 18 columns</p>\n",
       "</div>"
      ],
      "text/plain": [
       "           id                name  age nationality  overall  potential  \\\n",
       "0      158023            L. Messi   31   Argentina       94         94   \n",
       "1       20801   Cristiano Ronaldo   33    Portugal       94         94   \n",
       "2      190871           Neymar Jr   26      Brazil       92         93   \n",
       "3      193080              De Gea   27       Spain       91         93   \n",
       "4      192985        K. De Bruyne   27     Belgium       91         92   \n",
       "...       ...                 ...  ...         ...      ...        ...   \n",
       "18202  238813        J. Lundstram   19     England       47         65   \n",
       "18203  243165  N. Christoffersson   19      Sweden       47         63   \n",
       "18204  241638           B. Worman   16     England       47         67   \n",
       "18205  246268      D. Walker-Rice   17     England       47         66   \n",
       "18206  246269           G. Nugent   16     England       46         66   \n",
       "\n",
       "                      club     value  wage preferred_foot  \\\n",
       "0             FC Barcelona  110500.0   565           Left   \n",
       "1                 Juventus   77000.0   405          Right   \n",
       "2      Paris Saint-Germain  118500.0   290          Right   \n",
       "3        Manchester United   72000.0   260          Right   \n",
       "4          Manchester City  102000.0   355          Right   \n",
       "...                    ...       ...   ...            ...   \n",
       "18202      Crewe Alexandra      60.0     1          Right   \n",
       "18203       Trelleborgs FF      60.0     1          Right   \n",
       "18204     Cambridge United      60.0     1          Right   \n",
       "18205      Tranmere Rovers      60.0     1          Right   \n",
       "18206      Tranmere Rovers      60.0     1          Right   \n",
       "\n",
       "       international_reputation  skill_moves position  joined  \\\n",
       "0                           5.0          4.0       RF    2004   \n",
       "1                           5.0          5.0       ST    2018   \n",
       "2                           5.0          5.0       LW    2017   \n",
       "3                           4.0          1.0       GK    2011   \n",
       "4                           4.0          4.0      RCM    2015   \n",
       "...                         ...          ...      ...     ...   \n",
       "18202                       1.0          2.0       CM    2017   \n",
       "18203                       1.0          2.0       ST    2018   \n",
       "18204                       1.0          2.0       ST    2017   \n",
       "18205                       1.0          2.0       RW    2018   \n",
       "18206                       1.0          2.0       CM    2018   \n",
       "\n",
       "      contract_valid_until    height  weight  release_clause  \n",
       "0                 1/1/2021  5.583333   159.0        226500.0  \n",
       "1                 1/1/2022  6.166667   183.0        127100.0  \n",
       "2                 1/1/2022  5.750000   150.0        228100.0  \n",
       "3                 1/1/2020  6.333333   168.0        138600.0  \n",
       "4                 1/1/2023  5.916667   154.0        196400.0  \n",
       "...                    ...       ...     ...             ...  \n",
       "18202             1/1/2019  5.750000   134.0           143.0  \n",
       "18203             1/1/2020  6.250000   170.0           113.0  \n",
       "18204             1/1/2021  5.666667   148.0           165.0  \n",
       "18205             1/1/2019  5.833333   154.0           143.0  \n",
       "18206             1/1/2019  5.833333   176.0           165.0  \n",
       "\n",
       "[18207 rows x 18 columns]"
      ]
     },
     "execution_count": 4,
     "metadata": {},
     "output_type": "execute_result"
    }
   ],
   "source": [
    "new_names = [col.lower().strip().replace(\" \",\"_\") for col in df.columns]\n",
    "df.columns = new_names\n",
    "df"
   ]
  },
  {
   "cell_type": "code",
   "execution_count": null,
   "metadata": {},
   "outputs": [],
   "source": [
    "# Data understanding in each col\n",
    "# a)Overall -->  refers to a player's overall rating,often ranging from 0 to 100,represents how good a player is.\n",
    "# b)Potential --> refers to a player's maximum possible overall rating they could achieve in the future.(Mostly relevant for younger players who are still growing in career).\n",
    "# c)Value --> refers to a player's market value ,how much a club would need to pay to buy that player in the game .\n",
    "# d)Wage --> refers to how much money a player earns weekly from their club\n",
    "# e)International Reputation --> reflects how well-known or respected a player is on the global stage It's a rating from 1 to 5.\n",
    "# f)Skill Moves --> ability to perform complex dribbling tricks or special moves It's a rating from 1 to 5.\n",
    "# g)Position -->  main role or area on the pitch where the player usually plays.(GK – Goalkeeper,\n",
    "# CB – Center Back,\n",
    "# RCB – Right Center Back,\n",
    "# LCB – Left Center Back,\n",
    "# RB – Right Back,\n",
    "# LB – Left Back,\n",
    "# RWB – Right Wing Back, \n",
    "# LWB – Left Wing Back,\n",
    "# CDM – Central Defensive Midfielder,\n",
    "# RDM – Right Defensive Midfielder,\n",
    "# LDM – Left Defensive Midfielder,\n",
    "# CM – Central Midfielder,\n",
    "# RCM – Right Central Midfielder,\n",
    "# LCM – Left Central Midfielder,\n",
    "# CAM – Central Attacking Midfielder,\n",
    "# RAM – Right Attacking Midfielder,\n",
    "# LAM – Left Attacking Midfielder,\n",
    "# RM – Right Midfielder,\n",
    "# LM – Left Midfielder,\n",
    "# ST – Striker,\n",
    "# CF – Center Forward,\n",
    "# RS – Right Striker,\n",
    "# LS – Left Striker,\n",
    "# LF – Left Forward,\n",
    "# RF – Right Forward,\n",
    "# LW – Left Winger,\n",
    "# RW – Right Winger)\n",
    "# release_clause --> It is the amount of money (in Euros) that another club must pay to \"buy out\" the player's contract from their current team, without needing negotiation.\n"
   ]
  },
  {
   "cell_type": "code",
   "execution_count": 14,
   "metadata": {},
   "outputs": [
    {
     "data": {
      "text/plain": [
       "Index(['id', 'name', 'age', 'nationality', 'overall', 'potential', 'club',\n",
       "       'value', 'wage', 'preferred_foot', 'international_reputation',\n",
       "       'skill_moves', 'position', 'joined', 'contract_valid_until', 'height',\n",
       "       'weight', 'release_clause'],\n",
       "      dtype='object')"
      ]
     },
     "execution_count": 14,
     "metadata": {},
     "output_type": "execute_result"
    }
   ],
   "source": [
    "# check columns names to understand the data in each one.\n",
    "df.columns"
   ]
  },
  {
   "cell_type": "code",
   "execution_count": 5,
   "metadata": {},
   "outputs": [
    {
     "data": {
      "text/plain": [
       "array(['RF', 'ST', 'LW', 'GK', 'RCM', 'LF', 'RS', 'RCB', 'LCM', 'CB',\n",
       "       'LDM', 'CAM', 'CDM', 'LS', 'LCB', 'RM', 'LAM', 'LM', 'LB', 'RDM',\n",
       "       'RW', 'CM', 'RB', 'RAM', 'CF', 'RWB', 'LWB'], dtype=object)"
      ]
     },
     "execution_count": 5,
     "metadata": {},
     "output_type": "execute_result"
    }
   ],
   "source": [
    "# get more info about position col.\n",
    "df['position'].unique()"
   ]
  },
  {
   "cell_type": "code",
   "execution_count": 6,
   "metadata": {},
   "outputs": [],
   "source": [
    "# change height unit from feet to cm\n",
    "df['height'] = df['height'] * 30.48"
   ]
  },
  {
   "cell_type": "code",
   "execution_count": 7,
   "metadata": {},
   "outputs": [],
   "source": [
    "# change weight unit from pounds (lbs) to kg\n",
    "df['weight'] = df['weight'] * 0.453592"
   ]
  },
  {
   "cell_type": "markdown",
   "metadata": {},
   "source": [
    "**Use the .info() method to find out how many entries there are.**"
   ]
  },
  {
   "cell_type": "code",
   "execution_count": null,
   "metadata": {},
   "outputs": [
    {
     "name": "stdout",
     "output_type": "stream",
     "text": [
      "<class 'pandas.core.frame.DataFrame'>\n",
      "RangeIndex: 18207 entries, 0 to 18206\n",
      "Data columns (total 18 columns):\n",
      " #   Column                    Non-Null Count  Dtype  \n",
      "---  ------                    --------------  -----  \n",
      " 0   id                        18207 non-null  int64  \n",
      " 1   name                      18207 non-null  object \n",
      " 2   age                       18207 non-null  int64  \n",
      " 3   nationality               18207 non-null  object \n",
      " 4   overall                   18207 non-null  int64  \n",
      " 5   potential                 18207 non-null  int64  \n",
      " 6   club                      17966 non-null  object \n",
      " 7   value                     17955 non-null  float64\n",
      " 8   wage                      18207 non-null  int64  \n",
      " 9   preferred_foot            18207 non-null  object \n",
      " 10  international_reputation  18159 non-null  float64\n",
      " 11  skill_moves               18159 non-null  float64\n",
      " 12  position                  18207 non-null  object \n",
      " 13  joined                    18207 non-null  int64  \n",
      " 14  contract_valid_until      17918 non-null  object \n",
      " 15  height                    18207 non-null  float64\n",
      " 16  weight                    18207 non-null  float64\n",
      " 17  release_clause            18207 non-null  float64\n",
      "dtypes: float64(6), int64(6), object(6)\n",
      "memory usage: 2.5+ MB\n"
     ]
    }
   ],
   "source": [
    "# check info about the data types in each col in dataset\n",
    "df.info()"
   ]
  },
  {
   "cell_type": "markdown",
   "metadata": {},
   "source": [
    "**Use the .describe() method to get some statistics for the numeric columns of the data**"
   ]
  },
  {
   "cell_type": "code",
   "execution_count": 6,
   "metadata": {},
   "outputs": [
    {
     "data": {
      "application/vnd.microsoft.datawrangler.viewer.v0+json": {
       "columns": [
        {
         "name": "index",
         "rawType": "object",
         "type": "string"
        },
        {
         "name": "id",
         "rawType": "float64",
         "type": "float"
        },
        {
         "name": "age",
         "rawType": "float64",
         "type": "float"
        },
        {
         "name": "overall",
         "rawType": "float64",
         "type": "float"
        },
        {
         "name": "potential",
         "rawType": "float64",
         "type": "float"
        },
        {
         "name": "value",
         "rawType": "float64",
         "type": "float"
        },
        {
         "name": "wage",
         "rawType": "float64",
         "type": "float"
        },
        {
         "name": "international_reputation",
         "rawType": "float64",
         "type": "float"
        },
        {
         "name": "skill_moves",
         "rawType": "float64",
         "type": "float"
        },
        {
         "name": "joined",
         "rawType": "float64",
         "type": "float"
        },
        {
         "name": "height",
         "rawType": "float64",
         "type": "float"
        },
        {
         "name": "weight",
         "rawType": "float64",
         "type": "float"
        },
        {
         "name": "release_clause",
         "rawType": "float64",
         "type": "float"
        }
       ],
       "ref": "3c79e8c8-6f7d-4cb7-8d53-1780fb017914",
       "rows": [
        [
         "count",
         "18207.0",
         "18207.0",
         "18207.0",
         "18207.0",
         "17955.0",
         "18207.0",
         "18159.0",
         "18159.0",
         "18207.0",
         "18207.0",
         "18207.0",
         "18207.0"
        ],
        [
         "mean",
         "214298.33860603065",
         "25.122205745043114",
         "66.23869940132916",
         "71.30729939034437",
         "2444.5302144249513",
         "9.731312132696216",
         "1.1132220937276283",
         "2.361308442094829",
         "2016.4206074586698",
         "5.946771114415258",
         "165.97912880665237",
         "4585.060971116802"
        ],
        [
         "std",
         "29965.2442037661",
         "4.66994271341431",
         "6.9089296118828925",
         "6.13649558349916",
         "5626.715434153282",
         "21.99929040599253",
         "0.39403075584421304",
         "0.7561640557919401",
         "2.018194022393263",
         "0.22051402777122517",
         "15.572774957743666",
         "10630.414430317061"
        ],
        [
         "min",
         "16.0",
         "16.0",
         "46.0",
         "48.0",
         "10.0",
         "0.0",
         "1.0",
         "1.0",
         "1991.0",
         "5.083333333333333",
         "110.0",
         "13.0"
        ],
        [
         "25%",
         "200315.5",
         "21.0",
         "62.0",
         "67.0",
         "325.0",
         "1.0",
         "1.0",
         "2.0",
         "2016.0",
         "5.75",
         "154.0",
         "570.0"
        ],
        [
         "50%",
         "221759.0",
         "25.0",
         "66.0",
         "71.0",
         "700.0",
         "3.0",
         "1.0",
         "2.0",
         "2017.0",
         "5.916666666666667",
         "165.0",
         "1300.0"
        ],
        [
         "75%",
         "236529.5",
         "28.0",
         "71.0",
         "75.0",
         "2100.0",
         "9.0",
         "1.0",
         "3.0",
         "2018.0",
         "6.083333333333333",
         "176.0",
         "4585.06080634501"
        ],
        [
         "max",
         "246620.0",
         "45.0",
         "94.0",
         "95.0",
         "118500.0",
         "565.0",
         "5.0",
         "5.0",
         "2018.0",
         "6.75",
         "243.0",
         "228100.0"
        ]
       ],
       "shape": {
        "columns": 12,
        "rows": 8
       }
      },
      "text/html": [
       "<div>\n",
       "<style scoped>\n",
       "    .dataframe tbody tr th:only-of-type {\n",
       "        vertical-align: middle;\n",
       "    }\n",
       "\n",
       "    .dataframe tbody tr th {\n",
       "        vertical-align: top;\n",
       "    }\n",
       "\n",
       "    .dataframe thead th {\n",
       "        text-align: right;\n",
       "    }\n",
       "</style>\n",
       "<table border=\"1\" class=\"dataframe\">\n",
       "  <thead>\n",
       "    <tr style=\"text-align: right;\">\n",
       "      <th></th>\n",
       "      <th>id</th>\n",
       "      <th>age</th>\n",
       "      <th>overall</th>\n",
       "      <th>potential</th>\n",
       "      <th>value</th>\n",
       "      <th>wage</th>\n",
       "      <th>international_reputation</th>\n",
       "      <th>skill_moves</th>\n",
       "      <th>joined</th>\n",
       "      <th>height</th>\n",
       "      <th>weight</th>\n",
       "      <th>release_clause</th>\n",
       "    </tr>\n",
       "  </thead>\n",
       "  <tbody>\n",
       "    <tr>\n",
       "      <th>count</th>\n",
       "      <td>18207.000000</td>\n",
       "      <td>18207.000000</td>\n",
       "      <td>18207.000000</td>\n",
       "      <td>18207.000000</td>\n",
       "      <td>17955.000000</td>\n",
       "      <td>18207.000000</td>\n",
       "      <td>18159.000000</td>\n",
       "      <td>18159.000000</td>\n",
       "      <td>18207.000000</td>\n",
       "      <td>18207.000000</td>\n",
       "      <td>18207.000000</td>\n",
       "      <td>18207.000000</td>\n",
       "    </tr>\n",
       "    <tr>\n",
       "      <th>mean</th>\n",
       "      <td>214298.338606</td>\n",
       "      <td>25.122206</td>\n",
       "      <td>66.238699</td>\n",
       "      <td>71.307299</td>\n",
       "      <td>2444.530214</td>\n",
       "      <td>9.731312</td>\n",
       "      <td>1.113222</td>\n",
       "      <td>2.361308</td>\n",
       "      <td>2016.420607</td>\n",
       "      <td>5.946771</td>\n",
       "      <td>165.979129</td>\n",
       "      <td>4585.060971</td>\n",
       "    </tr>\n",
       "    <tr>\n",
       "      <th>std</th>\n",
       "      <td>29965.244204</td>\n",
       "      <td>4.669943</td>\n",
       "      <td>6.908930</td>\n",
       "      <td>6.136496</td>\n",
       "      <td>5626.715434</td>\n",
       "      <td>21.999290</td>\n",
       "      <td>0.394031</td>\n",
       "      <td>0.756164</td>\n",
       "      <td>2.018194</td>\n",
       "      <td>0.220514</td>\n",
       "      <td>15.572775</td>\n",
       "      <td>10630.414430</td>\n",
       "    </tr>\n",
       "    <tr>\n",
       "      <th>min</th>\n",
       "      <td>16.000000</td>\n",
       "      <td>16.000000</td>\n",
       "      <td>46.000000</td>\n",
       "      <td>48.000000</td>\n",
       "      <td>10.000000</td>\n",
       "      <td>0.000000</td>\n",
       "      <td>1.000000</td>\n",
       "      <td>1.000000</td>\n",
       "      <td>1991.000000</td>\n",
       "      <td>5.083333</td>\n",
       "      <td>110.000000</td>\n",
       "      <td>13.000000</td>\n",
       "    </tr>\n",
       "    <tr>\n",
       "      <th>25%</th>\n",
       "      <td>200315.500000</td>\n",
       "      <td>21.000000</td>\n",
       "      <td>62.000000</td>\n",
       "      <td>67.000000</td>\n",
       "      <td>325.000000</td>\n",
       "      <td>1.000000</td>\n",
       "      <td>1.000000</td>\n",
       "      <td>2.000000</td>\n",
       "      <td>2016.000000</td>\n",
       "      <td>5.750000</td>\n",
       "      <td>154.000000</td>\n",
       "      <td>570.000000</td>\n",
       "    </tr>\n",
       "    <tr>\n",
       "      <th>50%</th>\n",
       "      <td>221759.000000</td>\n",
       "      <td>25.000000</td>\n",
       "      <td>66.000000</td>\n",
       "      <td>71.000000</td>\n",
       "      <td>700.000000</td>\n",
       "      <td>3.000000</td>\n",
       "      <td>1.000000</td>\n",
       "      <td>2.000000</td>\n",
       "      <td>2017.000000</td>\n",
       "      <td>5.916667</td>\n",
       "      <td>165.000000</td>\n",
       "      <td>1300.000000</td>\n",
       "    </tr>\n",
       "    <tr>\n",
       "      <th>75%</th>\n",
       "      <td>236529.500000</td>\n",
       "      <td>28.000000</td>\n",
       "      <td>71.000000</td>\n",
       "      <td>75.000000</td>\n",
       "      <td>2100.000000</td>\n",
       "      <td>9.000000</td>\n",
       "      <td>1.000000</td>\n",
       "      <td>3.000000</td>\n",
       "      <td>2018.000000</td>\n",
       "      <td>6.083333</td>\n",
       "      <td>176.000000</td>\n",
       "      <td>4585.060806</td>\n",
       "    </tr>\n",
       "    <tr>\n",
       "      <th>max</th>\n",
       "      <td>246620.000000</td>\n",
       "      <td>45.000000</td>\n",
       "      <td>94.000000</td>\n",
       "      <td>95.000000</td>\n",
       "      <td>118500.000000</td>\n",
       "      <td>565.000000</td>\n",
       "      <td>5.000000</td>\n",
       "      <td>5.000000</td>\n",
       "      <td>2018.000000</td>\n",
       "      <td>6.750000</td>\n",
       "      <td>243.000000</td>\n",
       "      <td>228100.000000</td>\n",
       "    </tr>\n",
       "  </tbody>\n",
       "</table>\n",
       "</div>"
      ],
      "text/plain": [
       "                  id           age       overall     potential          value  \\\n",
       "count   18207.000000  18207.000000  18207.000000  18207.000000   17955.000000   \n",
       "mean   214298.338606     25.122206     66.238699     71.307299    2444.530214   \n",
       "std     29965.244204      4.669943      6.908930      6.136496    5626.715434   \n",
       "min        16.000000     16.000000     46.000000     48.000000      10.000000   \n",
       "25%    200315.500000     21.000000     62.000000     67.000000     325.000000   \n",
       "50%    221759.000000     25.000000     66.000000     71.000000     700.000000   \n",
       "75%    236529.500000     28.000000     71.000000     75.000000    2100.000000   \n",
       "max    246620.000000     45.000000     94.000000     95.000000  118500.000000   \n",
       "\n",
       "               wage  international_reputation   skill_moves        joined  \\\n",
       "count  18207.000000              18159.000000  18159.000000  18207.000000   \n",
       "mean       9.731312                  1.113222      2.361308   2016.420607   \n",
       "std       21.999290                  0.394031      0.756164      2.018194   \n",
       "min        0.000000                  1.000000      1.000000   1991.000000   \n",
       "25%        1.000000                  1.000000      2.000000   2016.000000   \n",
       "50%        3.000000                  1.000000      2.000000   2017.000000   \n",
       "75%        9.000000                  1.000000      3.000000   2018.000000   \n",
       "max      565.000000                  5.000000      5.000000   2018.000000   \n",
       "\n",
       "             height        weight  release_clause  \n",
       "count  18207.000000  18207.000000    18207.000000  \n",
       "mean       5.946771    165.979129     4585.060971  \n",
       "std        0.220514     15.572775    10630.414430  \n",
       "min        5.083333    110.000000       13.000000  \n",
       "25%        5.750000    154.000000      570.000000  \n",
       "50%        5.916667    165.000000     1300.000000  \n",
       "75%        6.083333    176.000000     4585.060806  \n",
       "max        6.750000    243.000000   228100.000000  "
      ]
     },
     "execution_count": 6,
     "metadata": {},
     "output_type": "execute_result"
    }
   ],
   "source": [
    "df.describe()"
   ]
  },
  {
   "cell_type": "markdown",
   "metadata": {},
   "source": [
    "**Use the .describe() method to get some statistics for the numeric categorical of the data**"
   ]
  },
  {
   "cell_type": "code",
   "execution_count": 7,
   "metadata": {},
   "outputs": [
    {
     "data": {
      "application/vnd.microsoft.datawrangler.viewer.v0+json": {
       "columns": [
        {
         "name": "index",
         "rawType": "object",
         "type": "string"
        },
        {
         "name": "name",
         "rawType": "object",
         "type": "unknown"
        },
        {
         "name": "nationality",
         "rawType": "object",
         "type": "unknown"
        },
        {
         "name": "club",
         "rawType": "object",
         "type": "unknown"
        },
        {
         "name": "preferred_foot",
         "rawType": "object",
         "type": "unknown"
        },
        {
         "name": "position",
         "rawType": "object",
         "type": "unknown"
        },
        {
         "name": "contract_valid_until",
         "rawType": "object",
         "type": "unknown"
        }
       ],
       "ref": "3aa0810f-4346-4785-b457-0387be93717b",
       "rows": [
        [
         "count",
         "18207",
         "18207",
         "17966",
         "18207",
         "18207",
         "17918"
        ],
        [
         "unique",
         "17193",
         "164",
         "651",
         "2",
         "27",
         "35"
        ],
        [
         "top",
         "J. Rodríguez",
         "England",
         "RC Celta",
         "Right",
         "ST",
         "1/1/2019"
        ],
        [
         "freq",
         "11",
         "1662",
         "33",
         "13996",
         "2154",
         "4870"
        ]
       ],
       "shape": {
        "columns": 6,
        "rows": 4
       }
      },
      "text/html": [
       "<div>\n",
       "<style scoped>\n",
       "    .dataframe tbody tr th:only-of-type {\n",
       "        vertical-align: middle;\n",
       "    }\n",
       "\n",
       "    .dataframe tbody tr th {\n",
       "        vertical-align: top;\n",
       "    }\n",
       "\n",
       "    .dataframe thead th {\n",
       "        text-align: right;\n",
       "    }\n",
       "</style>\n",
       "<table border=\"1\" class=\"dataframe\">\n",
       "  <thead>\n",
       "    <tr style=\"text-align: right;\">\n",
       "      <th></th>\n",
       "      <th>name</th>\n",
       "      <th>nationality</th>\n",
       "      <th>club</th>\n",
       "      <th>preferred_foot</th>\n",
       "      <th>position</th>\n",
       "      <th>contract_valid_until</th>\n",
       "    </tr>\n",
       "  </thead>\n",
       "  <tbody>\n",
       "    <tr>\n",
       "      <th>count</th>\n",
       "      <td>18207</td>\n",
       "      <td>18207</td>\n",
       "      <td>17966</td>\n",
       "      <td>18207</td>\n",
       "      <td>18207</td>\n",
       "      <td>17918</td>\n",
       "    </tr>\n",
       "    <tr>\n",
       "      <th>unique</th>\n",
       "      <td>17193</td>\n",
       "      <td>164</td>\n",
       "      <td>651</td>\n",
       "      <td>2</td>\n",
       "      <td>27</td>\n",
       "      <td>35</td>\n",
       "    </tr>\n",
       "    <tr>\n",
       "      <th>top</th>\n",
       "      <td>J. Rodríguez</td>\n",
       "      <td>England</td>\n",
       "      <td>RC Celta</td>\n",
       "      <td>Right</td>\n",
       "      <td>ST</td>\n",
       "      <td>1/1/2019</td>\n",
       "    </tr>\n",
       "    <tr>\n",
       "      <th>freq</th>\n",
       "      <td>11</td>\n",
       "      <td>1662</td>\n",
       "      <td>33</td>\n",
       "      <td>13996</td>\n",
       "      <td>2154</td>\n",
       "      <td>4870</td>\n",
       "    </tr>\n",
       "  </tbody>\n",
       "</table>\n",
       "</div>"
      ],
      "text/plain": [
       "                name nationality      club preferred_foot position  \\\n",
       "count          18207       18207     17966          18207    18207   \n",
       "unique         17193         164       651              2       27   \n",
       "top     J. Rodríguez     England  RC Celta          Right       ST   \n",
       "freq              11        1662        33          13996     2154   \n",
       "\n",
       "       contract_valid_until  \n",
       "count                 17918  \n",
       "unique                   35  \n",
       "top                1/1/2019  \n",
       "freq                   4870  "
      ]
     },
     "execution_count": 7,
     "metadata": {},
     "output_type": "execute_result"
    }
   ],
   "source": [
    "df.describe(include='O')"
   ]
  },
  {
   "cell_type": "markdown",
   "metadata": {},
   "source": [
    "**What is the average Age ?**"
   ]
  },
  {
   "cell_type": "code",
   "execution_count": 8,
   "metadata": {},
   "outputs": [
    {
     "data": {
      "text/plain": [
       "np.float64(25.122205745043114)"
      ]
     },
     "execution_count": 8,
     "metadata": {},
     "output_type": "execute_result"
    }
   ],
   "source": [
    "df['age'].mean()"
   ]
  },
  {
   "cell_type": "markdown",
   "metadata": {},
   "source": [
    "**What is the greatest Height? and name of the player with that height?**"
   ]
  },
  {
   "cell_type": "code",
   "execution_count": 8,
   "metadata": {},
   "outputs": [
    {
     "data": {
      "text/plain": [
       "np.float64(205.74)"
      ]
     },
     "execution_count": 8,
     "metadata": {},
     "output_type": "execute_result"
    }
   ],
   "source": [
    "# greatest height\n",
    "df['height'].max()"
   ]
  },
  {
   "cell_type": "code",
   "execution_count": 9,
   "metadata": {},
   "outputs": [
    {
     "data": {
      "application/vnd.microsoft.datawrangler.viewer.v0+json": {
       "columns": [
        {
         "name": "index",
         "rawType": "int64",
         "type": "integer"
        },
        {
         "name": "name",
         "rawType": "object",
         "type": "string"
        },
        {
         "name": "height",
         "rawType": "float64",
         "type": "float"
        }
       ],
       "ref": "fafddccf-0a8a-48c7-988a-a829dc39a90b",
       "rows": [
        [
         "11614",
         "T. Holý",
         "205.74"
        ],
        [
         "17927",
         "D. Hodzic",
         "205.74"
        ]
       ],
       "shape": {
        "columns": 2,
        "rows": 2
       }
      },
      "text/html": [
       "<div>\n",
       "<style scoped>\n",
       "    .dataframe tbody tr th:only-of-type {\n",
       "        vertical-align: middle;\n",
       "    }\n",
       "\n",
       "    .dataframe tbody tr th {\n",
       "        vertical-align: top;\n",
       "    }\n",
       "\n",
       "    .dataframe thead th {\n",
       "        text-align: right;\n",
       "    }\n",
       "</style>\n",
       "<table border=\"1\" class=\"dataframe\">\n",
       "  <thead>\n",
       "    <tr style=\"text-align: right;\">\n",
       "      <th></th>\n",
       "      <th>name</th>\n",
       "      <th>height</th>\n",
       "    </tr>\n",
       "  </thead>\n",
       "  <tbody>\n",
       "    <tr>\n",
       "      <th>11614</th>\n",
       "      <td>T. Holý</td>\n",
       "      <td>205.74</td>\n",
       "    </tr>\n",
       "    <tr>\n",
       "      <th>17927</th>\n",
       "      <td>D. Hodzic</td>\n",
       "      <td>205.74</td>\n",
       "    </tr>\n",
       "  </tbody>\n",
       "</table>\n",
       "</div>"
      ],
      "text/plain": [
       "            name  height\n",
       "11614    T. Holý  205.74\n",
       "17927  D. Hodzic  205.74"
      ]
     },
     "execution_count": 9,
     "metadata": {},
     "output_type": "execute_result"
    }
   ],
   "source": [
    "# name of the player\n",
    "df[df['height'] ==df['height'].max() ][['name','height']]"
   ]
  },
  {
   "cell_type": "markdown",
   "metadata": {},
   "source": [
    "**What is the smallest weight? and name of the player with that weight? and for which club plays?**"
   ]
  },
  {
   "cell_type": "code",
   "execution_count": 10,
   "metadata": {},
   "outputs": [
    {
     "data": {
      "text/plain": [
       "np.float64(49.89512)"
      ]
     },
     "execution_count": 10,
     "metadata": {},
     "output_type": "execute_result"
    }
   ],
   "source": [
    "df['weight'].min()"
   ]
  },
  {
   "cell_type": "code",
   "execution_count": 11,
   "metadata": {},
   "outputs": [
    {
     "data": {
      "application/vnd.microsoft.datawrangler.viewer.v0+json": {
       "columns": [
        {
         "name": "index",
         "rawType": "int64",
         "type": "integer"
        },
        {
         "name": "name",
         "rawType": "object",
         "type": "string"
        },
        {
         "name": "weight",
         "rawType": "float64",
         "type": "float"
        }
       ],
       "ref": "b7f1d9b1-ffa4-4cce-afce-79aed1ed4a8c",
       "rows": [
        [
         "13338",
         "B. Al Mutairi",
         "49.89512"
        ],
        [
         "17157",
         "K. Yamaguchi",
         "49.89512"
        ]
       ],
       "shape": {
        "columns": 2,
        "rows": 2
       }
      },
      "text/html": [
       "<div>\n",
       "<style scoped>\n",
       "    .dataframe tbody tr th:only-of-type {\n",
       "        vertical-align: middle;\n",
       "    }\n",
       "\n",
       "    .dataframe tbody tr th {\n",
       "        vertical-align: top;\n",
       "    }\n",
       "\n",
       "    .dataframe thead th {\n",
       "        text-align: right;\n",
       "    }\n",
       "</style>\n",
       "<table border=\"1\" class=\"dataframe\">\n",
       "  <thead>\n",
       "    <tr style=\"text-align: right;\">\n",
       "      <th></th>\n",
       "      <th>name</th>\n",
       "      <th>weight</th>\n",
       "    </tr>\n",
       "  </thead>\n",
       "  <tbody>\n",
       "    <tr>\n",
       "      <th>13338</th>\n",
       "      <td>B. Al Mutairi</td>\n",
       "      <td>49.89512</td>\n",
       "    </tr>\n",
       "    <tr>\n",
       "      <th>17157</th>\n",
       "      <td>K. Yamaguchi</td>\n",
       "      <td>49.89512</td>\n",
       "    </tr>\n",
       "  </tbody>\n",
       "</table>\n",
       "</div>"
      ],
      "text/plain": [
       "                name    weight\n",
       "13338  B. Al Mutairi  49.89512\n",
       "17157   K. Yamaguchi  49.89512"
      ]
     },
     "execution_count": 11,
     "metadata": {},
     "output_type": "execute_result"
    }
   ],
   "source": [
    "# name of the player\n",
    "df[df['weight']==df['weight'].min()][['name' , 'weight']]"
   ]
  },
  {
   "cell_type": "markdown",
   "metadata": {},
   "source": [
    "**What is the position of Cristiano Ronaldo?**"
   ]
  },
  {
   "cell_type": "code",
   "execution_count": 13,
   "metadata": {},
   "outputs": [
    {
     "data": {
      "application/vnd.microsoft.datawrangler.viewer.v0+json": {
       "columns": [
        {
         "name": "index",
         "rawType": "int64",
         "type": "integer"
        },
        {
         "name": "name",
         "rawType": "object",
         "type": "string"
        },
        {
         "name": "position",
         "rawType": "object",
         "type": "string"
        }
       ],
       "ref": "eee347a0-8d4c-4520-86f6-0036e0ca9c1f",
       "rows": [
        [
         "1",
         "Cristiano Ronaldo",
         "ST"
        ]
       ],
       "shape": {
        "columns": 2,
        "rows": 1
       }
      },
      "text/html": [
       "<div>\n",
       "<style scoped>\n",
       "    .dataframe tbody tr th:only-of-type {\n",
       "        vertical-align: middle;\n",
       "    }\n",
       "\n",
       "    .dataframe tbody tr th {\n",
       "        vertical-align: top;\n",
       "    }\n",
       "\n",
       "    .dataframe thead th {\n",
       "        text-align: right;\n",
       "    }\n",
       "</style>\n",
       "<table border=\"1\" class=\"dataframe\">\n",
       "  <thead>\n",
       "    <tr style=\"text-align: right;\">\n",
       "      <th></th>\n",
       "      <th>name</th>\n",
       "      <th>position</th>\n",
       "    </tr>\n",
       "  </thead>\n",
       "  <tbody>\n",
       "    <tr>\n",
       "      <th>1</th>\n",
       "      <td>Cristiano Ronaldo</td>\n",
       "      <td>ST</td>\n",
       "    </tr>\n",
       "  </tbody>\n",
       "</table>\n",
       "</div>"
      ],
      "text/plain": [
       "                name position\n",
       "1  Cristiano Ronaldo       ST"
      ]
     },
     "execution_count": 13,
     "metadata": {},
     "output_type": "execute_result"
    }
   ],
   "source": [
    "df[df['name']=='Cristiano Ronaldo'][['name' , 'position']]"
   ]
  },
  {
   "cell_type": "markdown",
   "metadata": {},
   "source": [
    "**What was the average (mean) Value of all players per year(Joined column) ?**"
   ]
  },
  {
   "cell_type": "code",
   "execution_count": 14,
   "metadata": {},
   "outputs": [
    {
     "data": {
      "application/vnd.microsoft.datawrangler.viewer.v0+json": {
       "columns": [
        {
         "name": "index",
         "rawType": "int64",
         "type": "integer"
        },
        {
         "name": "joined",
         "rawType": "int64",
         "type": "integer"
        },
        {
         "name": "average_value",
         "rawType": "float64",
         "type": "float"
        }
       ],
       "ref": "ee55f2a6-a4aa-4c0f-a018-3e0be839bcb6",
       "rows": [
        [
         "0",
         "1991",
         "160.0"
        ],
        [
         "1",
         "1998",
         "106.66666666666667"
        ],
        [
         "2",
         "1999",
         "40.0"
        ],
        [
         "3",
         "2000",
         "110.0"
        ],
        [
         "4",
         "2001",
         "237.5"
        ],
        [
         "5",
         "2002",
         "2351.25"
        ],
        [
         "6",
         "2003",
         "1148.076923076923"
        ],
        [
         "7",
         "2004",
         "10415.833333333334"
        ],
        [
         "8",
         "2005",
         "5544.705882352941"
        ],
        [
         "9",
         "2006",
         "1208.0555555555557"
        ],
        [
         "10",
         "2007",
         "4730.789473684211"
        ],
        [
         "11",
         "2008",
         "5377.924528301887"
        ],
        [
         "12",
         "2009",
         "3468.269230769231"
        ],
        [
         "13",
         "2010",
         "5240.839694656489"
        ],
        [
         "14",
         "2011",
         "4868.24120603015"
        ],
        [
         "15",
         "2012",
         "3840.9882005899703"
        ],
        [
         "16",
         "2013",
         "4181.32096069869"
        ],
        [
         "17",
         "2014",
         "3549.0770171149143"
        ],
        [
         "18",
         "2015",
         "3335.755988023952"
        ],
        [
         "19",
         "2016",
         "2511.2454315434356"
        ],
        [
         "20",
         "2017",
         "2125.39837398374"
        ],
        [
         "21",
         "2018",
         "1913.7595187328664"
        ]
       ],
       "shape": {
        "columns": 2,
        "rows": 22
       }
      },
      "text/html": [
       "<div>\n",
       "<style scoped>\n",
       "    .dataframe tbody tr th:only-of-type {\n",
       "        vertical-align: middle;\n",
       "    }\n",
       "\n",
       "    .dataframe tbody tr th {\n",
       "        vertical-align: top;\n",
       "    }\n",
       "\n",
       "    .dataframe thead th {\n",
       "        text-align: right;\n",
       "    }\n",
       "</style>\n",
       "<table border=\"1\" class=\"dataframe\">\n",
       "  <thead>\n",
       "    <tr style=\"text-align: right;\">\n",
       "      <th></th>\n",
       "      <th>joined</th>\n",
       "      <th>average_value</th>\n",
       "    </tr>\n",
       "  </thead>\n",
       "  <tbody>\n",
       "    <tr>\n",
       "      <th>0</th>\n",
       "      <td>1991</td>\n",
       "      <td>160.000000</td>\n",
       "    </tr>\n",
       "    <tr>\n",
       "      <th>1</th>\n",
       "      <td>1998</td>\n",
       "      <td>106.666667</td>\n",
       "    </tr>\n",
       "    <tr>\n",
       "      <th>2</th>\n",
       "      <td>1999</td>\n",
       "      <td>40.000000</td>\n",
       "    </tr>\n",
       "    <tr>\n",
       "      <th>3</th>\n",
       "      <td>2000</td>\n",
       "      <td>110.000000</td>\n",
       "    </tr>\n",
       "    <tr>\n",
       "      <th>4</th>\n",
       "      <td>2001</td>\n",
       "      <td>237.500000</td>\n",
       "    </tr>\n",
       "    <tr>\n",
       "      <th>5</th>\n",
       "      <td>2002</td>\n",
       "      <td>2351.250000</td>\n",
       "    </tr>\n",
       "    <tr>\n",
       "      <th>6</th>\n",
       "      <td>2003</td>\n",
       "      <td>1148.076923</td>\n",
       "    </tr>\n",
       "    <tr>\n",
       "      <th>7</th>\n",
       "      <td>2004</td>\n",
       "      <td>10415.833333</td>\n",
       "    </tr>\n",
       "    <tr>\n",
       "      <th>8</th>\n",
       "      <td>2005</td>\n",
       "      <td>5544.705882</td>\n",
       "    </tr>\n",
       "    <tr>\n",
       "      <th>9</th>\n",
       "      <td>2006</td>\n",
       "      <td>1208.055556</td>\n",
       "    </tr>\n",
       "    <tr>\n",
       "      <th>10</th>\n",
       "      <td>2007</td>\n",
       "      <td>4730.789474</td>\n",
       "    </tr>\n",
       "    <tr>\n",
       "      <th>11</th>\n",
       "      <td>2008</td>\n",
       "      <td>5377.924528</td>\n",
       "    </tr>\n",
       "    <tr>\n",
       "      <th>12</th>\n",
       "      <td>2009</td>\n",
       "      <td>3468.269231</td>\n",
       "    </tr>\n",
       "    <tr>\n",
       "      <th>13</th>\n",
       "      <td>2010</td>\n",
       "      <td>5240.839695</td>\n",
       "    </tr>\n",
       "    <tr>\n",
       "      <th>14</th>\n",
       "      <td>2011</td>\n",
       "      <td>4868.241206</td>\n",
       "    </tr>\n",
       "    <tr>\n",
       "      <th>15</th>\n",
       "      <td>2012</td>\n",
       "      <td>3840.988201</td>\n",
       "    </tr>\n",
       "    <tr>\n",
       "      <th>16</th>\n",
       "      <td>2013</td>\n",
       "      <td>4181.320961</td>\n",
       "    </tr>\n",
       "    <tr>\n",
       "      <th>17</th>\n",
       "      <td>2014</td>\n",
       "      <td>3549.077017</td>\n",
       "    </tr>\n",
       "    <tr>\n",
       "      <th>18</th>\n",
       "      <td>2015</td>\n",
       "      <td>3335.755988</td>\n",
       "    </tr>\n",
       "    <tr>\n",
       "      <th>19</th>\n",
       "      <td>2016</td>\n",
       "      <td>2511.245432</td>\n",
       "    </tr>\n",
       "    <tr>\n",
       "      <th>20</th>\n",
       "      <td>2017</td>\n",
       "      <td>2125.398374</td>\n",
       "    </tr>\n",
       "    <tr>\n",
       "      <th>21</th>\n",
       "      <td>2018</td>\n",
       "      <td>1913.759519</td>\n",
       "    </tr>\n",
       "  </tbody>\n",
       "</table>\n",
       "</div>"
      ],
      "text/plain": [
       "    joined  average_value\n",
       "0     1991     160.000000\n",
       "1     1998     106.666667\n",
       "2     1999      40.000000\n",
       "3     2000     110.000000\n",
       "4     2001     237.500000\n",
       "5     2002    2351.250000\n",
       "6     2003    1148.076923\n",
       "7     2004   10415.833333\n",
       "8     2005    5544.705882\n",
       "9     2006    1208.055556\n",
       "10    2007    4730.789474\n",
       "11    2008    5377.924528\n",
       "12    2009    3468.269231\n",
       "13    2010    5240.839695\n",
       "14    2011    4868.241206\n",
       "15    2012    3840.988201\n",
       "16    2013    4181.320961\n",
       "17    2014    3549.077017\n",
       "18    2015    3335.755988\n",
       "19    2016    2511.245432\n",
       "20    2017    2125.398374\n",
       "21    2018    1913.759519"
      ]
     },
     "execution_count": 14,
     "metadata": {},
     "output_type": "execute_result"
    }
   ],
   "source": [
    "df.groupby('joined')['value'].mean().reset_index(name='average_value')"
   ]
  },
  {
   "cell_type": "markdown",
   "metadata": {},
   "source": [
    "**get Number of players for each club**"
   ]
  },
  {
   "cell_type": "code",
   "execution_count": 15,
   "metadata": {},
   "outputs": [
    {
     "data": {
      "application/vnd.microsoft.datawrangler.viewer.v0+json": {
       "columns": [
        {
         "name": "index",
         "rawType": "int64",
         "type": "integer"
        },
        {
         "name": "club",
         "rawType": "object",
         "type": "string"
        },
        {
         "name": "players_number",
         "rawType": "int64",
         "type": "integer"
        }
       ],
       "ref": "e58eb790-00ab-4ea2-aa30-1d9ee12015a7",
       "rows": [
        [
         "0",
         " SSV Jahn Regensburg",
         "29"
        ],
        [
         "1",
         "1. FC Heidenheim 1846",
         "28"
        ],
        [
         "2",
         "1. FC Kaiserslautern",
         "26"
        ],
        [
         "3",
         "1. FC Köln",
         "28"
        ],
        [
         "4",
         "1. FC Magdeburg",
         "26"
        ],
        [
         "5",
         "1. FC Nürnberg",
         "29"
        ],
        [
         "6",
         "1. FC Union Berlin",
         "28"
        ],
        [
         "7",
         "1. FSV Mainz 05",
         "32"
        ],
        [
         "8",
         "AC Ajaccio",
         "23"
        ],
        [
         "9",
         "AC Horsens",
         "25"
        ],
        [
         "10",
         "AD Alcorcón",
         "29"
        ],
        [
         "11",
         "ADO Den Haag",
         "28"
        ],
        [
         "12",
         "AEK Athens",
         "28"
        ],
        [
         "13",
         "AFC Wimbledon",
         "26"
        ],
        [
         "14",
         "AIK",
         "27"
        ],
        [
         "15",
         "AJ Auxerre",
         "27"
        ],
        [
         "16",
         "AS Béziers",
         "26"
        ],
        [
         "17",
         "AS Monaco",
         "33"
        ],
        [
         "18",
         "AS Nancy Lorraine",
         "30"
        ],
        [
         "19",
         "AS Saint-Étienne",
         "24"
        ],
        [
         "20",
         "AZ Alkmaar",
         "30"
        ],
        [
         "21",
         "Aalborg BK",
         "27"
        ],
        [
         "22",
         "Aarhus GF",
         "27"
        ],
        [
         "23",
         "Aberdeen",
         "27"
        ],
        [
         "24",
         "Accrington Stanley",
         "28"
        ],
        [
         "25",
         "Adelaide United",
         "25"
        ],
        [
         "26",
         "Ajax",
         "30"
        ],
        [
         "27",
         "Akhisar Belediyespor",
         "26"
        ],
        [
         "28",
         "Al Ahli",
         "30"
        ],
        [
         "29",
         "Al Batin",
         "30"
        ],
        [
         "30",
         "Al Faisaly",
         "30"
        ],
        [
         "31",
         "Al Fateh",
         "28"
        ],
        [
         "32",
         "Al Fayha",
         "28"
        ],
        [
         "33",
         "Al Hazem",
         "30"
        ],
        [
         "34",
         "Al Hilal",
         "30"
        ],
        [
         "35",
         "Al Ittihad",
         "30"
        ],
        [
         "36",
         "Al Nassr",
         "29"
        ],
        [
         "37",
         "Al Qadisiyah",
         "30"
        ],
        [
         "38",
         "Al Raed",
         "30"
        ],
        [
         "39",
         "Al Shabab",
         "30"
        ],
        [
         "40",
         "Al Taawoun",
         "29"
        ],
        [
         "41",
         "Al Wehda",
         "30"
        ],
        [
         "42",
         "Alanyaspor",
         "30"
        ],
        [
         "43",
         "Albacete BP",
         "30"
        ],
        [
         "44",
         "Alianza Petrolera",
         "28"
        ],
        [
         "45",
         "Amiens SC",
         "29"
        ],
        [
         "46",
         "América FC (Minas Gerais)",
         "20"
        ],
        [
         "47",
         "América de Cali",
         "28"
        ],
        [
         "48",
         "Angers SCO",
         "30"
        ],
        [
         "49",
         "Antalyaspor",
         "30"
        ]
       ],
       "shape": {
        "columns": 2,
        "rows": 651
       }
      },
      "text/html": [
       "<div>\n",
       "<style scoped>\n",
       "    .dataframe tbody tr th:only-of-type {\n",
       "        vertical-align: middle;\n",
       "    }\n",
       "\n",
       "    .dataframe tbody tr th {\n",
       "        vertical-align: top;\n",
       "    }\n",
       "\n",
       "    .dataframe thead th {\n",
       "        text-align: right;\n",
       "    }\n",
       "</style>\n",
       "<table border=\"1\" class=\"dataframe\">\n",
       "  <thead>\n",
       "    <tr style=\"text-align: right;\">\n",
       "      <th></th>\n",
       "      <th>club</th>\n",
       "      <th>players_number</th>\n",
       "    </tr>\n",
       "  </thead>\n",
       "  <tbody>\n",
       "    <tr>\n",
       "      <th>0</th>\n",
       "      <td>SSV Jahn Regensburg</td>\n",
       "      <td>29</td>\n",
       "    </tr>\n",
       "    <tr>\n",
       "      <th>1</th>\n",
       "      <td>1. FC Heidenheim 1846</td>\n",
       "      <td>28</td>\n",
       "    </tr>\n",
       "    <tr>\n",
       "      <th>2</th>\n",
       "      <td>1. FC Kaiserslautern</td>\n",
       "      <td>26</td>\n",
       "    </tr>\n",
       "    <tr>\n",
       "      <th>3</th>\n",
       "      <td>1. FC Köln</td>\n",
       "      <td>28</td>\n",
       "    </tr>\n",
       "    <tr>\n",
       "      <th>4</th>\n",
       "      <td>1. FC Magdeburg</td>\n",
       "      <td>26</td>\n",
       "    </tr>\n",
       "    <tr>\n",
       "      <th>...</th>\n",
       "      <td>...</td>\n",
       "      <td>...</td>\n",
       "    </tr>\n",
       "    <tr>\n",
       "      <th>646</th>\n",
       "      <td>Zaglebie Lubin</td>\n",
       "      <td>27</td>\n",
       "    </tr>\n",
       "    <tr>\n",
       "      <th>647</th>\n",
       "      <td>Zaglebie Sosnowiec</td>\n",
       "      <td>25</td>\n",
       "    </tr>\n",
       "    <tr>\n",
       "      <th>648</th>\n",
       "      <td>Çaykur Rizespor</td>\n",
       "      <td>30</td>\n",
       "    </tr>\n",
       "    <tr>\n",
       "      <th>649</th>\n",
       "      <td>Örebro SK</td>\n",
       "      <td>27</td>\n",
       "    </tr>\n",
       "    <tr>\n",
       "      <th>650</th>\n",
       "      <td>Östersunds FK</td>\n",
       "      <td>22</td>\n",
       "    </tr>\n",
       "  </tbody>\n",
       "</table>\n",
       "<p>651 rows × 2 columns</p>\n",
       "</div>"
      ],
      "text/plain": [
       "                      club  players_number\n",
       "0      SSV Jahn Regensburg              29\n",
       "1    1. FC Heidenheim 1846              28\n",
       "2     1. FC Kaiserslautern              26\n",
       "3               1. FC Köln              28\n",
       "4          1. FC Magdeburg              26\n",
       "..                     ...             ...\n",
       "646         Zaglebie Lubin              27\n",
       "647     Zaglebie Sosnowiec              25\n",
       "648        Çaykur Rizespor              30\n",
       "649              Örebro SK              27\n",
       "650          Östersunds FK              22\n",
       "\n",
       "[651 rows x 2 columns]"
      ]
     },
     "execution_count": 15,
     "metadata": {},
     "output_type": "execute_result"
    }
   ],
   "source": [
    "df.groupby('club')['name'].count().reset_index(name='players_number')"
   ]
  },
  {
   "cell_type": "markdown",
   "metadata": {},
   "source": [
    "**How many unique Clubs are there?**"
   ]
  },
  {
   "cell_type": "code",
   "execution_count": 16,
   "metadata": {},
   "outputs": [
    {
     "data": {
      "text/plain": [
       "651"
      ]
     },
     "execution_count": 16,
     "metadata": {},
     "output_type": "execute_result"
    }
   ],
   "source": [
    "df['club'].nunique()"
   ]
  },
  {
   "cell_type": "markdown",
   "metadata": {},
   "source": [
    "**What are the top 5 most common positions?**"
   ]
  },
  {
   "cell_type": "code",
   "execution_count": 17,
   "metadata": {},
   "outputs": [
    {
     "data": {
      "application/vnd.microsoft.datawrangler.viewer.v0+json": {
       "columns": [
        {
         "name": "index",
         "rawType": "int64",
         "type": "integer"
        },
        {
         "name": "position",
         "rawType": "object",
         "type": "string"
        },
        {
         "name": "position_frequency",
         "rawType": "int64",
         "type": "integer"
        }
       ],
       "ref": "018404ba-d747-4745-9e9d-22e7d32bd4d6",
       "rows": [
        [
         "26",
         "ST",
         "2154"
        ],
        [
         "5",
         "GK",
         "2027"
        ],
        [
         "1",
         "CB",
         "1779"
        ],
        [
         "4",
         "CM",
         "1395"
        ],
        [
         "7",
         "LB",
         "1372"
        ]
       ],
       "shape": {
        "columns": 2,
        "rows": 5
       }
      },
      "text/html": [
       "<div>\n",
       "<style scoped>\n",
       "    .dataframe tbody tr th:only-of-type {\n",
       "        vertical-align: middle;\n",
       "    }\n",
       "\n",
       "    .dataframe tbody tr th {\n",
       "        vertical-align: top;\n",
       "    }\n",
       "\n",
       "    .dataframe thead th {\n",
       "        text-align: right;\n",
       "    }\n",
       "</style>\n",
       "<table border=\"1\" class=\"dataframe\">\n",
       "  <thead>\n",
       "    <tr style=\"text-align: right;\">\n",
       "      <th></th>\n",
       "      <th>position</th>\n",
       "      <th>position_frequency</th>\n",
       "    </tr>\n",
       "  </thead>\n",
       "  <tbody>\n",
       "    <tr>\n",
       "      <th>26</th>\n",
       "      <td>ST</td>\n",
       "      <td>2154</td>\n",
       "    </tr>\n",
       "    <tr>\n",
       "      <th>5</th>\n",
       "      <td>GK</td>\n",
       "      <td>2027</td>\n",
       "    </tr>\n",
       "    <tr>\n",
       "      <th>1</th>\n",
       "      <td>CB</td>\n",
       "      <td>1779</td>\n",
       "    </tr>\n",
       "    <tr>\n",
       "      <th>4</th>\n",
       "      <td>CM</td>\n",
       "      <td>1395</td>\n",
       "    </tr>\n",
       "    <tr>\n",
       "      <th>7</th>\n",
       "      <td>LB</td>\n",
       "      <td>1372</td>\n",
       "    </tr>\n",
       "  </tbody>\n",
       "</table>\n",
       "</div>"
      ],
      "text/plain": [
       "   position  position_frequency\n",
       "26       ST                2154\n",
       "5        GK                2027\n",
       "1        CB                1779\n",
       "4        CM                1395\n",
       "7        LB                1372"
      ]
     },
     "execution_count": 17,
     "metadata": {},
     "output_type": "execute_result"
    }
   ],
   "source": [
    "df.groupby('position')['name'].count().reset_index(name='position_frequency').sort_values(by='position_frequency',ascending=False).head(5)"
   ]
  },
  {
   "cell_type": "markdown",
   "metadata": {},
   "source": [
    "**What are the top 5 most common nationality?**"
   ]
  },
  {
   "cell_type": "code",
   "execution_count": 18,
   "metadata": {},
   "outputs": [
    {
     "data": {
      "application/vnd.microsoft.datawrangler.viewer.v0+json": {
       "columns": [
        {
         "name": "index",
         "rawType": "int64",
         "type": "integer"
        },
        {
         "name": "nationality",
         "rawType": "object",
         "type": "string"
        },
        {
         "name": "nationality_frequency",
         "rawType": "int64",
         "type": "integer"
        }
       ],
       "ref": "dd1e9a0a-b8f4-4f17-8860-f232b1609d06",
       "rows": [
        [
         "46",
         "England",
         "1662"
        ],
        [
         "59",
         "Germany",
         "1198"
        ],
        [
         "139",
         "Spain",
         "1072"
        ],
        [
         "6",
         "Argentina",
         "937"
        ],
        [
         "55",
         "France",
         "914"
        ]
       ],
       "shape": {
        "columns": 2,
        "rows": 5
       }
      },
      "text/html": [
       "<div>\n",
       "<style scoped>\n",
       "    .dataframe tbody tr th:only-of-type {\n",
       "        vertical-align: middle;\n",
       "    }\n",
       "\n",
       "    .dataframe tbody tr th {\n",
       "        vertical-align: top;\n",
       "    }\n",
       "\n",
       "    .dataframe thead th {\n",
       "        text-align: right;\n",
       "    }\n",
       "</style>\n",
       "<table border=\"1\" class=\"dataframe\">\n",
       "  <thead>\n",
       "    <tr style=\"text-align: right;\">\n",
       "      <th></th>\n",
       "      <th>nationality</th>\n",
       "      <th>nationality_frequency</th>\n",
       "    </tr>\n",
       "  </thead>\n",
       "  <tbody>\n",
       "    <tr>\n",
       "      <th>46</th>\n",
       "      <td>England</td>\n",
       "      <td>1662</td>\n",
       "    </tr>\n",
       "    <tr>\n",
       "      <th>59</th>\n",
       "      <td>Germany</td>\n",
       "      <td>1198</td>\n",
       "    </tr>\n",
       "    <tr>\n",
       "      <th>139</th>\n",
       "      <td>Spain</td>\n",
       "      <td>1072</td>\n",
       "    </tr>\n",
       "    <tr>\n",
       "      <th>6</th>\n",
       "      <td>Argentina</td>\n",
       "      <td>937</td>\n",
       "    </tr>\n",
       "    <tr>\n",
       "      <th>55</th>\n",
       "      <td>France</td>\n",
       "      <td>914</td>\n",
       "    </tr>\n",
       "  </tbody>\n",
       "</table>\n",
       "</div>"
      ],
      "text/plain": [
       "    nationality  nationality_frequency\n",
       "46      England                   1662\n",
       "59      Germany                   1198\n",
       "139       Spain                   1072\n",
       "6     Argentina                    937\n",
       "55       France                    914"
      ]
     },
     "execution_count": 18,
     "metadata": {},
     "output_type": "execute_result"
    }
   ],
   "source": [
    "df.groupby('nationality')['name'].count().reset_index(name='nationality_frequency').sort_values(by='nationality_frequency',ascending=False).head(5)"
   ]
  },
  {
   "cell_type": "markdown",
   "metadata": {},
   "source": [
    "**What are the names of players has Egyptian Nationality?**"
   ]
  },
  {
   "cell_type": "code",
   "execution_count": 13,
   "metadata": {},
   "outputs": [
    {
     "data": {
      "application/vnd.microsoft.datawrangler.viewer.v0+json": {
       "columns": [
        {
         "name": "index",
         "rawType": "int64",
         "type": "integer"
        },
        {
         "name": "name",
         "rawType": "object",
         "type": "string"
        }
       ],
       "ref": "3dd319c7-1232-4e93-992e-5dc33af7042c",
       "rows": [
        [
         "26",
         "M. Salah"
        ],
        [
         "752",
         "Trezeguet"
        ],
        [
         "959",
         "M. Elneny"
        ],
        [
         "1517",
         "A. Hegazi"
        ],
        [
         "2241",
         "A. Hassan"
        ],
        [
         "2259",
         "Kahraba"
        ],
        [
         "2334",
         "R. Sobhi"
        ],
        [
         "3310",
         "A. Elmohamady"
        ],
        [
         "3616",
         "A. Warda"
        ],
        [
         "3929",
         "A. Ghazal"
        ],
        [
         "4044",
         "A. Tarek"
        ],
        [
         "4217",
         "Shikabala"
        ],
        [
         "4504",
         "A. El Said"
        ],
        [
         "5614",
         "A. Fathi"
        ],
        [
         "5913",
         "M. Hamdy"
        ],
        [
         "5944",
         "S. Morsy"
        ],
        [
         "6021",
         "A. Ashraf"
        ],
        [
         "6407",
         "S. Ekramy"
        ],
        [
         "6717",
         "A. Gabr"
        ],
        [
         "6804",
         "O. Gaber"
        ],
        [
         "7102",
         "M. Abdul Shafy"
        ],
        [
         "8325",
         "A. El-Abd"
        ],
        [
         "8441",
         "T. Hamed"
        ],
        [
         "9165",
         "M. El-Shenawy"
        ],
        [
         "9228",
         "H. El Sayed"
        ],
        [
         "9297",
         "M. Awad"
        ],
        [
         "9514",
         "A. Jakobsen"
        ],
        [
         "9665",
         "K. Hafez"
        ],
        [
         "9911",
         "M. Mohsen"
        ],
        [
         "10672",
         "M. Atwa"
        ],
        [
         "13891",
         "A. Mostafa"
        ]
       ],
       "shape": {
        "columns": 1,
        "rows": 31
       }
      },
      "text/html": [
       "<div>\n",
       "<style scoped>\n",
       "    .dataframe tbody tr th:only-of-type {\n",
       "        vertical-align: middle;\n",
       "    }\n",
       "\n",
       "    .dataframe tbody tr th {\n",
       "        vertical-align: top;\n",
       "    }\n",
       "\n",
       "    .dataframe thead th {\n",
       "        text-align: right;\n",
       "    }\n",
       "</style>\n",
       "<table border=\"1\" class=\"dataframe\">\n",
       "  <thead>\n",
       "    <tr style=\"text-align: right;\">\n",
       "      <th></th>\n",
       "      <th>name</th>\n",
       "    </tr>\n",
       "  </thead>\n",
       "  <tbody>\n",
       "    <tr>\n",
       "      <th>26</th>\n",
       "      <td>M. Salah</td>\n",
       "    </tr>\n",
       "    <tr>\n",
       "      <th>752</th>\n",
       "      <td>Trezeguet</td>\n",
       "    </tr>\n",
       "    <tr>\n",
       "      <th>959</th>\n",
       "      <td>M. Elneny</td>\n",
       "    </tr>\n",
       "    <tr>\n",
       "      <th>1517</th>\n",
       "      <td>A. Hegazi</td>\n",
       "    </tr>\n",
       "    <tr>\n",
       "      <th>2241</th>\n",
       "      <td>A. Hassan</td>\n",
       "    </tr>\n",
       "    <tr>\n",
       "      <th>2259</th>\n",
       "      <td>Kahraba</td>\n",
       "    </tr>\n",
       "    <tr>\n",
       "      <th>2334</th>\n",
       "      <td>R. Sobhi</td>\n",
       "    </tr>\n",
       "    <tr>\n",
       "      <th>3310</th>\n",
       "      <td>A. Elmohamady</td>\n",
       "    </tr>\n",
       "    <tr>\n",
       "      <th>3616</th>\n",
       "      <td>A. Warda</td>\n",
       "    </tr>\n",
       "    <tr>\n",
       "      <th>3929</th>\n",
       "      <td>A. Ghazal</td>\n",
       "    </tr>\n",
       "    <tr>\n",
       "      <th>4044</th>\n",
       "      <td>A. Tarek</td>\n",
       "    </tr>\n",
       "    <tr>\n",
       "      <th>4217</th>\n",
       "      <td>Shikabala</td>\n",
       "    </tr>\n",
       "    <tr>\n",
       "      <th>4504</th>\n",
       "      <td>A. El Said</td>\n",
       "    </tr>\n",
       "    <tr>\n",
       "      <th>5614</th>\n",
       "      <td>A. Fathi</td>\n",
       "    </tr>\n",
       "    <tr>\n",
       "      <th>5913</th>\n",
       "      <td>M. Hamdy</td>\n",
       "    </tr>\n",
       "    <tr>\n",
       "      <th>5944</th>\n",
       "      <td>S. Morsy</td>\n",
       "    </tr>\n",
       "    <tr>\n",
       "      <th>6021</th>\n",
       "      <td>A. Ashraf</td>\n",
       "    </tr>\n",
       "    <tr>\n",
       "      <th>6407</th>\n",
       "      <td>S. Ekramy</td>\n",
       "    </tr>\n",
       "    <tr>\n",
       "      <th>6717</th>\n",
       "      <td>A. Gabr</td>\n",
       "    </tr>\n",
       "    <tr>\n",
       "      <th>6804</th>\n",
       "      <td>O. Gaber</td>\n",
       "    </tr>\n",
       "    <tr>\n",
       "      <th>7102</th>\n",
       "      <td>M. Abdul Shafy</td>\n",
       "    </tr>\n",
       "    <tr>\n",
       "      <th>8325</th>\n",
       "      <td>A. El-Abd</td>\n",
       "    </tr>\n",
       "    <tr>\n",
       "      <th>8441</th>\n",
       "      <td>T. Hamed</td>\n",
       "    </tr>\n",
       "    <tr>\n",
       "      <th>9165</th>\n",
       "      <td>M. El-Shenawy</td>\n",
       "    </tr>\n",
       "    <tr>\n",
       "      <th>9228</th>\n",
       "      <td>H. El Sayed</td>\n",
       "    </tr>\n",
       "    <tr>\n",
       "      <th>9297</th>\n",
       "      <td>M. Awad</td>\n",
       "    </tr>\n",
       "    <tr>\n",
       "      <th>9514</th>\n",
       "      <td>A. Jakobsen</td>\n",
       "    </tr>\n",
       "    <tr>\n",
       "      <th>9665</th>\n",
       "      <td>K. Hafez</td>\n",
       "    </tr>\n",
       "    <tr>\n",
       "      <th>9911</th>\n",
       "      <td>M. Mohsen</td>\n",
       "    </tr>\n",
       "    <tr>\n",
       "      <th>10672</th>\n",
       "      <td>M. Atwa</td>\n",
       "    </tr>\n",
       "    <tr>\n",
       "      <th>13891</th>\n",
       "      <td>A. Mostafa</td>\n",
       "    </tr>\n",
       "  </tbody>\n",
       "</table>\n",
       "</div>"
      ],
      "text/plain": [
       "                 name\n",
       "26           M. Salah\n",
       "752         Trezeguet\n",
       "959         M. Elneny\n",
       "1517        A. Hegazi\n",
       "2241        A. Hassan\n",
       "2259          Kahraba\n",
       "2334         R. Sobhi\n",
       "3310    A. Elmohamady\n",
       "3616         A. Warda\n",
       "3929        A. Ghazal\n",
       "4044         A. Tarek\n",
       "4217        Shikabala\n",
       "4504       A. El Said\n",
       "5614         A. Fathi\n",
       "5913         M. Hamdy\n",
       "5944         S. Morsy\n",
       "6021        A. Ashraf\n",
       "6407        S. Ekramy\n",
       "6717          A. Gabr\n",
       "6804         O. Gaber\n",
       "7102   M. Abdul Shafy\n",
       "8325        A. El-Abd\n",
       "8441         T. Hamed\n",
       "9165    M. El-Shenawy\n",
       "9228      H. El Sayed\n",
       "9297          M. Awad\n",
       "9514      A. Jakobsen\n",
       "9665         K. Hafez\n",
       "9911        M. Mohsen\n",
       "10672         M. Atwa\n",
       "13891      A. Mostafa"
      ]
     },
     "execution_count": 13,
     "metadata": {},
     "output_type": "execute_result"
    }
   ],
   "source": [
    "df[df['nationality']=='Egypt'][['name']]"
   ]
  },
  {
   "cell_type": "markdown",
   "metadata": {},
   "source": [
    "**How many players joined in 2018 with skill moves=2?** "
   ]
  },
  {
   "cell_type": "code",
   "execution_count": 20,
   "metadata": {},
   "outputs": [
    {
     "data": {
      "text/plain": [
       "np.int64(3295)"
      ]
     },
     "execution_count": 20,
     "metadata": {},
     "output_type": "execute_result"
    }
   ],
   "source": [
    "df[(df['joined']==2018) & (df['skill_moves']==2)]['name'].count()"
   ]
  },
  {
   "cell_type": "markdown",
   "metadata": {},
   "source": [
    "**How many players whom name starts with letter  'M'? (This is pretty tricky)**"
   ]
  },
  {
   "cell_type": "code",
   "execution_count": 21,
   "metadata": {},
   "outputs": [
    {
     "data": {
      "text/plain": [
       "np.int64(1975)"
      ]
     },
     "execution_count": 21,
     "metadata": {},
     "output_type": "execute_result"
    }
   ],
   "source": [
    "df[df['name'].str.startswith('M')]['id'].count()"
   ]
  },
  {
   "cell_type": "markdown",
   "metadata": {},
   "source": [
    "**Bonus: Is there a correlation between International Reputation and Wage?**"
   ]
  },
  {
   "cell_type": "code",
   "execution_count": 22,
   "metadata": {},
   "outputs": [
    {
     "data": {
      "text/plain": [
       "np.float64(0.6686346353006071)"
      ]
     },
     "execution_count": 22,
     "metadata": {},
     "output_type": "execute_result"
    }
   ],
   "source": [
    "df['international_reputation'].corr(df['wage'])"
   ]
  },
  {
   "cell_type": "markdown",
   "metadata": {},
   "source": [
    "# Great Job!"
   ]
  },
  {
   "cell_type": "markdown",
   "metadata": {},
   "source": [
    "### Additional questions"
   ]
  },
  {
   "cell_type": "code",
   "execution_count": 10,
   "metadata": {},
   "outputs": [
    {
     "data": {
      "application/vnd.microsoft.datawrangler.viewer.v0+json": {
       "columns": [
        {
         "name": "index",
         "rawType": "int64",
         "type": "integer"
        },
        {
         "name": "name",
         "rawType": "object",
         "type": "string"
        },
        {
         "name": "club",
         "rawType": "object",
         "type": "string"
        },
        {
         "name": "wage",
         "rawType": "int64",
         "type": "integer"
        }
       ],
       "ref": "3040b5a3-9c39-4fc1-a6c3-3eb6e6e80be9",
       "rows": [
        [
         "10124",
         "L. Messi",
         "FC Barcelona",
         "565"
        ],
        [
         "10344",
         "L. Suárez",
         "FC Barcelona",
         "455"
        ],
        [
         "10132",
         "L. Modric",
         "Real Madrid",
         "420"
        ],
        [
         "3287",
         "Cristiano Ronaldo",
         "Juventus",
         "405"
        ],
        [
         "16142",
         "Sergio Ramos",
         "Real Madrid",
         "380"
        ],
        [
         "9077",
         "K. De Bruyne",
         "Manchester City",
         "355"
        ],
        [
         "5746",
         "G. Bale",
         "Real Madrid",
         "355"
        ],
        [
         "16528",
         "T. Kroos",
         "Real Madrid",
         "355"
        ],
        [
         "4612",
         "E. Hazard",
         "Chelsea",
         "340"
        ],
        [
         "3272",
         "Coutinho",
         "FC Barcelona",
         "340"
        ],
        [
         "16132",
         "Sergio Busquets",
         "FC Barcelona",
         "315"
        ],
        [
         "8310",
         "J. Rodríguez",
         "FC Bayern München",
         "315"
        ],
        [
         "7041",
         "Isco",
         "Real Madrid",
         "315"
        ],
        [
         "15079",
         "S. Agüero",
         "Manchester City",
         "300"
        ],
        [
         "13136",
         "Neymar Jr",
         "Paris Saint-Germain",
         "290"
        ],
        [
         "12474",
         "Marcelo",
         "Real Madrid",
         "285"
        ],
        [
         "4308",
         "David Silva",
         "Manchester City",
         "285"
        ],
        [
         "3183",
         "Casemiro",
         "Real Madrid",
         "285"
        ],
        [
         "13517",
         "P. Aubameyang",
         "Arsenal",
         "265"
        ],
        [
         "4315",
         "De Gea",
         "Manchester United",
         "260"
        ],
        [
         "6951",
         "I. Rakitic",
         "FC Barcelona",
         "260"
        ],
        [
         "12049",
         "M. Salah",
         "Liverpool",
         "255"
        ],
        [
         "8820",
         "Jordi Alba",
         "FC Barcelona",
         "250"
        ],
        [
         "5916",
         "G. Higuaín",
         "Milan",
         "245"
        ],
        [
         "16349",
         "T. Courtois",
         "Real Madrid",
         "240"
        ],
        [
         "12390",
         "M. ter Stegen",
         "FC Barcelona",
         "240"
        ],
        [
         "14076",
         "Piqué",
         "FC Barcelona",
         "240"
        ],
        [
         "9025",
         "K. Benzema",
         "Real Madrid",
         "240"
        ],
        [
         "14006",
         "Paulinho",
         "Guangzhou Evergrande Taobao FC",
         "235"
        ],
        [
         "14533",
         "R. Lukaku",
         "Manchester United",
         "230"
        ],
        [
         "12855",
         "N. Kanté",
         "Chelsea",
         "225"
        ],
        [
         "12480",
         "Marco Asensio",
         "Real Madrid",
         "215"
        ],
        [
         "5810",
         "G. Chiellini",
         "Juventus",
         "215"
        ],
        [
         "1327",
         "A. Sánchez",
         "Manchester United",
         "215"
        ],
        [
         "14809",
         "R. Varane",
         "Real Madrid",
         "210"
        ],
        [
         "13818",
         "P. Pogba",
         "Manchester United",
         "210"
        ],
        [
         "13597",
         "P. Dybala",
         "Juventus",
         "205"
        ],
        [
         "6495",
         "H. Kane",
         "Tottenham Hotspur",
         "205"
        ],
        [
         "1412",
         "A. Vidal",
         "FC Barcelona",
         "205"
        ],
        [
         "15995",
         "S. Umtiti",
         "FC Barcelona",
         "205"
        ],
        [
         "10625",
         "Lucas Vázquez",
         "Real Madrid",
         "205"
        ],
        [
         "2572",
         "C. Eriksen",
         "Tottenham Hotspur",
         "205"
        ],
        [
         "14542",
         "R. Mahrez",
         "Manchester City",
         "205"
        ],
        [
         "14520",
         "R. Lewandowski",
         "FC Bayern München",
         "205"
        ],
        [
         "4513",
         "E. Cavani",
         "Paris Saint-Germain",
         "200"
        ],
        [
         "10289",
         "L. Sané",
         "Manchester City",
         "195"
        ],
        [
         "14754",
         "R. Sterling",
         "Manchester City",
         "195"
        ],
        [
         "15624",
         "S. Mané",
         "Liverpool",
         "195"
        ],
        [
         "14986",
         "Roberto Firmino",
         "Liverpool",
         "195"
        ],
        [
         "9350",
         "K. Navas",
         "Real Madrid",
         "195"
        ]
       ],
       "shape": {
        "columns": 3,
        "rows": 17949
       }
      },
      "text/html": [
       "<div>\n",
       "<style scoped>\n",
       "    .dataframe tbody tr th:only-of-type {\n",
       "        vertical-align: middle;\n",
       "    }\n",
       "\n",
       "    .dataframe tbody tr th {\n",
       "        vertical-align: top;\n",
       "    }\n",
       "\n",
       "    .dataframe thead th {\n",
       "        text-align: right;\n",
       "    }\n",
       "</style>\n",
       "<table border=\"1\" class=\"dataframe\">\n",
       "  <thead>\n",
       "    <tr style=\"text-align: right;\">\n",
       "      <th></th>\n",
       "      <th>name</th>\n",
       "      <th>club</th>\n",
       "      <th>wage</th>\n",
       "    </tr>\n",
       "  </thead>\n",
       "  <tbody>\n",
       "    <tr>\n",
       "      <th>10124</th>\n",
       "      <td>L. Messi</td>\n",
       "      <td>FC Barcelona</td>\n",
       "      <td>565</td>\n",
       "    </tr>\n",
       "    <tr>\n",
       "      <th>10344</th>\n",
       "      <td>L. Suárez</td>\n",
       "      <td>FC Barcelona</td>\n",
       "      <td>455</td>\n",
       "    </tr>\n",
       "    <tr>\n",
       "      <th>10132</th>\n",
       "      <td>L. Modric</td>\n",
       "      <td>Real Madrid</td>\n",
       "      <td>420</td>\n",
       "    </tr>\n",
       "    <tr>\n",
       "      <th>3287</th>\n",
       "      <td>Cristiano Ronaldo</td>\n",
       "      <td>Juventus</td>\n",
       "      <td>405</td>\n",
       "    </tr>\n",
       "    <tr>\n",
       "      <th>16142</th>\n",
       "      <td>Sergio Ramos</td>\n",
       "      <td>Real Madrid</td>\n",
       "      <td>380</td>\n",
       "    </tr>\n",
       "    <tr>\n",
       "      <th>...</th>\n",
       "      <td>...</td>\n",
       "      <td>...</td>\n",
       "      <td>...</td>\n",
       "    </tr>\n",
       "    <tr>\n",
       "      <th>25</th>\n",
       "      <td>A. Affane</td>\n",
       "      <td>IFK Göteborg</td>\n",
       "      <td>1</td>\n",
       "    </tr>\n",
       "    <tr>\n",
       "      <th>26</th>\n",
       "      <td>A. Agouda</td>\n",
       "      <td>Stabæk Fotball</td>\n",
       "      <td>1</td>\n",
       "    </tr>\n",
       "    <tr>\n",
       "      <th>17922</th>\n",
       "      <td>Álvaro García</td>\n",
       "      <td>Albacete BP</td>\n",
       "      <td>1</td>\n",
       "    </tr>\n",
       "    <tr>\n",
       "      <th>17924</th>\n",
       "      <td>Álvaro Gómez</td>\n",
       "      <td>Albacete BP</td>\n",
       "      <td>1</td>\n",
       "    </tr>\n",
       "    <tr>\n",
       "      <th>17930</th>\n",
       "      <td>Ángel</td>\n",
       "      <td>Albacete BP</td>\n",
       "      <td>1</td>\n",
       "    </tr>\n",
       "  </tbody>\n",
       "</table>\n",
       "<p>17949 rows × 3 columns</p>\n",
       "</div>"
      ],
      "text/plain": [
       "                    name            club  wage\n",
       "10124           L. Messi    FC Barcelona   565\n",
       "10344          L. Suárez    FC Barcelona   455\n",
       "10132          L. Modric     Real Madrid   420\n",
       "3287   Cristiano Ronaldo        Juventus   405\n",
       "16142       Sergio Ramos     Real Madrid   380\n",
       "...                  ...             ...   ...\n",
       "25             A. Affane    IFK Göteborg     1\n",
       "26             A. Agouda  Stabæk Fotball     1\n",
       "17922      Álvaro García     Albacete BP     1\n",
       "17924       Álvaro Gómez     Albacete BP     1\n",
       "17930              Ángel     Albacete BP     1\n",
       "\n",
       "[17949 rows x 3 columns]"
      ]
     },
     "execution_count": 10,
     "metadata": {},
     "output_type": "execute_result"
    }
   ],
   "source": [
    "# how much each player earn weekly in each club \n",
    "df.groupby(['name','club'])['wage'].sum().reset_index().sort_values(by='wage',ascending=False)"
   ]
  },
  {
   "cell_type": "code",
   "execution_count": 11,
   "metadata": {},
   "outputs": [
    {
     "data": {
      "application/vnd.microsoft.datawrangler.viewer.v0+json": {
       "columns": [
        {
         "name": "index",
         "rawType": "int64",
         "type": "integer"
        },
        {
         "name": "club",
         "rawType": "object",
         "type": "unknown"
        },
        {
         "name": "name",
         "rawType": "object",
         "type": "string"
        },
        {
         "name": "overall",
         "rawType": "int64",
         "type": "integer"
        }
       ],
       "ref": "f33d2c63-22b0-4783-91af-b839c82eed9e",
       "rows": [
        [
         "4587",
         " SSV Jahn Regensburg",
         "M. Grüttner",
         "71"
        ],
        [
         "2053",
         "1. FC Heidenheim 1846",
         "M. Schnatterer",
         "75"
        ],
        [
         "5084",
         "1. FC Kaiserslautern",
         "L. Spalvis",
         "70"
        ],
        [
         "189",
         "1. FC Köln",
         "T. Horn",
         "83"
        ],
        [
         "4309",
         "1. FC Magdeburg",
         "R. Brégerie",
         "71"
        ],
        [
         "1298",
         "1. FC Nürnberg",
         "Matheus Pereira",
         "76"
        ],
        [
         "2670",
         "1. FC Union Berlin",
         "R. Gikiewicz",
         "73"
        ],
        [
         "594",
         "1. FSV Mainz 05",
         "J. Gbamin",
         "79"
        ],
        [
         "3152",
         "AC Ajaccio",
         "R. Nouri",
         "73"
        ],
        [
         "7068",
         "AC Horsens",
         "S. Heltne Nilsen",
         "68"
        ],
        [
         "3216",
         "AD Alcorcón",
         "Laure",
         "72"
        ],
        [
         "1830",
         "ADO Den Haag",
         "A. El Khayati",
         "75"
        ],
        [
         "1353",
         "AEK Athens",
         "P. Mantalos",
         "76"
        ],
        [
         "8396",
         "AFC Wimbledon",
         "A. Oshilaja",
         "67"
        ],
        [
         "2133",
         "AIK",
         "K. Olsson",
         "74"
        ],
        [
         "2690",
         "AJ Auxerre",
         "R. Philippoteaux",
         "73"
        ],
        [
         "4264",
         "AS Béziers",
         "M. Mostefa",
         "71"
        ],
        [
         "148",
         "AS Monaco",
         "Falcao",
         "84"
        ],
        [
         "4887",
         "AS Nancy Lorraine",
         "E. Seka",
         "70"
        ],
        [
         "147",
         "AS Saint-Étienne",
         "S. Ruffier",
         "84"
        ],
        [
         "1924",
         "AZ Alkmaar",
         "M. Bizot",
         "75"
        ],
        [
         "3367",
         "Aalborg BK",
         "K. Kusk",
         "72"
        ],
        [
         "5570",
         "Aarhus GF",
         "P. Kanstrup",
         "70"
        ],
        [
         "2290",
         "Aberdeen",
         "G. Shinnie",
         "74"
        ],
        [
         "6677",
         "Accrington Stanley",
         "C. Ripley",
         "68"
        ],
        [
         "3263",
         "Adelaide United",
         "Isaías",
         "72"
        ],
        [
         "171",
         "Ajax",
         "H. Ziyech",
         "83"
        ],
        [
         "1293",
         "Akhisar Belediyespor",
         "Josué",
         "76"
        ],
        [
         "673",
         "Al Ahli",
         "Souza",
         "79"
        ],
        [
         "3610",
         "Al Batin",
         "J. Arango",
         "72"
        ],
        [
         "3595",
         "Al Faisaly",
         "Rogerinho",
         "72"
        ],
        [
         "3133",
         "Al Fateh",
         "M. Aguirregaray",
         "73"
        ],
        [
         "2674",
         "Al Fayha",
         "J. Gómez",
         "73"
        ],
        [
         "4896",
         "Al Hazem",
         "Rodolfo",
         "70"
        ],
        [
         "404",
         "Al Hilal",
         "B. Gomis",
         "81"
        ],
        [
         "1195",
         "Al Ittihad",
         "C. Villanueva",
         "77"
        ],
        [
         "208",
         "Al Nassr",
         "Giuliano",
         "83"
        ],
        [
         "2768",
         "Al Qadisiyah",
         "Élton",
         "73"
        ],
        [
         "4030",
         "Al Raed",
         "I. Bangoura",
         "71"
        ],
        [
         "1730",
         "Al Shabab",
         "C. Budescu",
         "75"
        ],
        [
         "1251",
         "Al Taawoun",
         "Héldon",
         "76"
        ],
        [
         "908",
         "Al Wehda",
         "E. Çolak",
         "77"
        ],
        [
         "1440",
         "Alanyaspor",
         "J. Fernandes",
         "76"
        ],
        [
         "1771",
         "Albacete BP",
         "S. Gentiletti",
         "75"
        ],
        [
         "4176",
         "Alianza Petrolera",
         "H. Henao",
         "71"
        ],
        [
         "1013",
         "Amiens SC",
         "R. Gurtner",
         "77"
        ],
        [
         "565",
         "América FC (Minas Gerais)",
         "Melvin Parrela",
         "79"
        ],
        [
         "3356",
         "América de Cali",
         "D. Buitrago",
         "72"
        ],
        [
         "1395",
         "Angers SCO",
         "R. Thomas",
         "76"
        ],
        [
         "1415",
         "Antalyaspor",
         "Maicón",
         "76"
        ]
       ],
       "shape": {
        "columns": 3,
        "rows": 652
       }
      },
      "text/html": [
       "<div>\n",
       "<style scoped>\n",
       "    .dataframe tbody tr th:only-of-type {\n",
       "        vertical-align: middle;\n",
       "    }\n",
       "\n",
       "    .dataframe tbody tr th {\n",
       "        vertical-align: top;\n",
       "    }\n",
       "\n",
       "    .dataframe thead th {\n",
       "        text-align: right;\n",
       "    }\n",
       "</style>\n",
       "<table border=\"1\" class=\"dataframe\">\n",
       "  <thead>\n",
       "    <tr style=\"text-align: right;\">\n",
       "      <th></th>\n",
       "      <th>club</th>\n",
       "      <th>name</th>\n",
       "      <th>overall</th>\n",
       "    </tr>\n",
       "  </thead>\n",
       "  <tbody>\n",
       "    <tr>\n",
       "      <th>4587</th>\n",
       "      <td>SSV Jahn Regensburg</td>\n",
       "      <td>M. Grüttner</td>\n",
       "      <td>71</td>\n",
       "    </tr>\n",
       "    <tr>\n",
       "      <th>2053</th>\n",
       "      <td>1. FC Heidenheim 1846</td>\n",
       "      <td>M. Schnatterer</td>\n",
       "      <td>75</td>\n",
       "    </tr>\n",
       "    <tr>\n",
       "      <th>5084</th>\n",
       "      <td>1. FC Kaiserslautern</td>\n",
       "      <td>L. Spalvis</td>\n",
       "      <td>70</td>\n",
       "    </tr>\n",
       "    <tr>\n",
       "      <th>189</th>\n",
       "      <td>1. FC Köln</td>\n",
       "      <td>T. Horn</td>\n",
       "      <td>83</td>\n",
       "    </tr>\n",
       "    <tr>\n",
       "      <th>4309</th>\n",
       "      <td>1. FC Magdeburg</td>\n",
       "      <td>R. Brégerie</td>\n",
       "      <td>71</td>\n",
       "    </tr>\n",
       "    <tr>\n",
       "      <th>...</th>\n",
       "      <td>...</td>\n",
       "      <td>...</td>\n",
       "      <td>...</td>\n",
       "    </tr>\n",
       "    <tr>\n",
       "      <th>10324</th>\n",
       "      <td>Zaglebie Sosnowiec</td>\n",
       "      <td>K. Wrzesinski</td>\n",
       "      <td>65</td>\n",
       "    </tr>\n",
       "    <tr>\n",
       "      <th>1531</th>\n",
       "      <td>Çaykur Rizespor</td>\n",
       "      <td>A. Umar</td>\n",
       "      <td>76</td>\n",
       "    </tr>\n",
       "    <tr>\n",
       "      <th>4344</th>\n",
       "      <td>Örebro SK</td>\n",
       "      <td>N. Besara</td>\n",
       "      <td>71</td>\n",
       "    </tr>\n",
       "    <tr>\n",
       "      <th>6023</th>\n",
       "      <td>Östersunds FK</td>\n",
       "      <td>H. Aiesh</td>\n",
       "      <td>69</td>\n",
       "    </tr>\n",
       "    <tr>\n",
       "      <th>452</th>\n",
       "      <td>NaN</td>\n",
       "      <td>L. Paredes</td>\n",
       "      <td>80</td>\n",
       "    </tr>\n",
       "  </tbody>\n",
       "</table>\n",
       "<p>652 rows × 3 columns</p>\n",
       "</div>"
      ],
      "text/plain": [
       "                        club            name  overall\n",
       "4587     SSV Jahn Regensburg     M. Grüttner       71\n",
       "2053   1. FC Heidenheim 1846  M. Schnatterer       75\n",
       "5084    1. FC Kaiserslautern      L. Spalvis       70\n",
       "189               1. FC Köln         T. Horn       83\n",
       "4309         1. FC Magdeburg     R. Brégerie       71\n",
       "...                      ...             ...      ...\n",
       "10324     Zaglebie Sosnowiec   K. Wrzesinski       65\n",
       "1531         Çaykur Rizespor         A. Umar       76\n",
       "4344               Örebro SK       N. Besara       71\n",
       "6023           Östersunds FK        H. Aiesh       69\n",
       "452                      NaN      L. Paredes       80\n",
       "\n",
       "[652 rows x 3 columns]"
      ]
     },
     "execution_count": 11,
     "metadata": {},
     "output_type": "execute_result"
    }
   ],
   "source": [
    "# who are the top rated player in each club\n",
    "top_players = df.sort_values('overall', ascending=False).drop_duplicates('club')\n",
    "top_players[['club', 'name', 'overall']].sort_values('club')"
   ]
  },
  {
   "cell_type": "code",
   "execution_count": 12,
   "metadata": {},
   "outputs": [
    {
     "data": {
      "text/plain": [
       "np.float64(-0.2533121074109556)"
      ]
     },
     "execution_count": 12,
     "metadata": {},
     "output_type": "execute_result"
    }
   ],
   "source": [
    "# is there a relationship between age and potential?\n",
    "df['age'].corr(df['potential'])  # --> week inverse relation between age and potential"
   ]
  },
  {
   "cell_type": "code",
   "execution_count": 13,
   "metadata": {},
   "outputs": [
    {
     "data": {
      "text/plain": [
       "np.float64(0.5719260112876147)"
      ]
     },
     "execution_count": 13,
     "metadata": {},
     "output_type": "execute_result"
    }
   ],
   "source": [
    "# what's the relationship between the overall and wage \n",
    "df['overall'].corr(df['wage']) #--> moderate direct relation ship between overall and wage "
   ]
  },
  {
   "cell_type": "code",
   "execution_count": 17,
   "metadata": {},
   "outputs": [
    {
     "data": {
      "application/vnd.microsoft.datawrangler.viewer.v0+json": {
       "columns": [
        {
         "name": "nationality",
         "rawType": "object",
         "type": "string"
        },
        {
         "name": "nationality",
         "rawType": "int64",
         "type": "integer"
        }
       ],
       "ref": "ed04e730-678e-4b8e-b16f-415a15cd6810",
       "rows": [
        [
         "England",
         "1662"
        ]
       ],
       "shape": {
        "columns": 1,
        "rows": 1
       }
      },
      "text/plain": [
       "nationality\n",
       "England    1662\n",
       "Name: nationality, dtype: int64"
      ]
     },
     "execution_count": 17,
     "metadata": {},
     "output_type": "execute_result"
    }
   ],
   "source": [
    "# which country is the most contribute in fifa_19\n",
    "df.groupby(\"nationality\")['nationality'].count().sort_values(ascending=False).head(1)"
   ]
  },
  {
   "cell_type": "code",
   "execution_count": 14,
   "metadata": {},
   "outputs": [
    {
     "data": {
      "application/vnd.microsoft.datawrangler.viewer.v0+json": {
       "columns": [
        {
         "name": "index",
         "rawType": "int64",
         "type": "integer"
        },
        {
         "name": "name",
         "rawType": "object",
         "type": "string"
        },
        {
         "name": "release_clause",
         "rawType": "float64",
         "type": "float"
        }
       ],
       "ref": "3907e463-6ed0-4072-a4c3-3fa82ce74328",
       "rows": [
        [
         "2",
         "Neymar Jr",
         "228100.0"
        ]
       ],
       "shape": {
        "columns": 2,
        "rows": 1
       }
      },
      "text/html": [
       "<div>\n",
       "<style scoped>\n",
       "    .dataframe tbody tr th:only-of-type {\n",
       "        vertical-align: middle;\n",
       "    }\n",
       "\n",
       "    .dataframe tbody tr th {\n",
       "        vertical-align: top;\n",
       "    }\n",
       "\n",
       "    .dataframe thead th {\n",
       "        text-align: right;\n",
       "    }\n",
       "</style>\n",
       "<table border=\"1\" class=\"dataframe\">\n",
       "  <thead>\n",
       "    <tr style=\"text-align: right;\">\n",
       "      <th></th>\n",
       "      <th>name</th>\n",
       "      <th>release_clause</th>\n",
       "    </tr>\n",
       "  </thead>\n",
       "  <tbody>\n",
       "    <tr>\n",
       "      <th>2</th>\n",
       "      <td>Neymar Jr</td>\n",
       "      <td>228100.0</td>\n",
       "    </tr>\n",
       "  </tbody>\n",
       "</table>\n",
       "</div>"
      ],
      "text/plain": [
       "        name  release_clause\n",
       "2  Neymar Jr        228100.0"
      ]
     },
     "execution_count": 14,
     "metadata": {},
     "output_type": "execute_result"
    }
   ],
   "source": [
    "# for whome the biggest Release Clause paied for \n",
    "df[['name', 'release_clause']].sort_values(by='release_clause', ascending=False).head(1)"
   ]
  },
  {
   "cell_type": "code",
   "execution_count": 15,
   "metadata": {},
   "outputs": [
    {
     "data": {
      "application/vnd.microsoft.datawrangler.viewer.v0+json": {
       "columns": [
        {
         "name": "club",
         "rawType": "object",
         "type": "string"
        },
        {
         "name": "wage",
         "rawType": "int64",
         "type": "integer"
        }
       ],
       "ref": "cfc8e74c-c824-4ed8-a709-d7a202cca08f",
       "rows": [
        [
         "Real Madrid",
         "5017"
        ]
       ],
       "shape": {
        "columns": 1,
        "rows": 1
       }
      },
      "text/plain": [
       "club\n",
       "Real Madrid    5017\n",
       "Name: wage, dtype: int64"
      ]
     },
     "execution_count": 15,
     "metadata": {},
     "output_type": "execute_result"
    }
   ],
   "source": [
    "# which club pay the most to all players in it \n",
    "df.groupby(\"club\")['wage'].sum().sort_values(ascending=False).head(1)"
   ]
  },
  {
   "cell_type": "code",
   "execution_count": 16,
   "metadata": {},
   "outputs": [
    {
     "data": {
      "application/vnd.microsoft.datawrangler.viewer.v0+json": {
       "columns": [
        {
         "name": "index",
         "rawType": "int64",
         "type": "integer"
        },
        {
         "name": "joined",
         "rawType": "int64",
         "type": "integer"
        },
        {
         "name": "player_count",
         "rawType": "int64",
         "type": "integer"
        }
       ],
       "ref": "2a47cc26-67c9-49c1-9c6f-e890670ad37a",
       "rows": [
        [
         "0",
         "1991",
         "1"
        ],
        [
         "1",
         "1998",
         "3"
        ],
        [
         "2",
         "1999",
         "1"
        ],
        [
         "3",
         "2000",
         "2"
        ],
        [
         "4",
         "2001",
         "2"
        ],
        [
         "5",
         "2002",
         "10"
        ],
        [
         "6",
         "2003",
         "13"
        ],
        [
         "7",
         "2004",
         "12"
        ],
        [
         "8",
         "2005",
         "17"
        ],
        [
         "9",
         "2006",
         "18"
        ],
        [
         "10",
         "2007",
         "38"
        ],
        [
         "11",
         "2008",
         "53"
        ],
        [
         "12",
         "2009",
         "78"
        ],
        [
         "13",
         "2010",
         "131"
        ],
        [
         "14",
         "2011",
         "201"
        ],
        [
         "15",
         "2012",
         "340"
        ],
        [
         "16",
         "2013",
         "458"
        ],
        [
         "17",
         "2014",
         "818"
        ],
        [
         "18",
         "2015",
         "1336"
        ],
        [
         "19",
         "2016",
         "3799"
        ],
        [
         "20",
         "2017",
         "4307"
        ],
        [
         "21",
         "2018",
         "6569"
        ]
       ],
       "shape": {
        "columns": 2,
        "rows": 22
       }
      },
      "text/html": [
       "<div>\n",
       "<style scoped>\n",
       "    .dataframe tbody tr th:only-of-type {\n",
       "        vertical-align: middle;\n",
       "    }\n",
       "\n",
       "    .dataframe tbody tr th {\n",
       "        vertical-align: top;\n",
       "    }\n",
       "\n",
       "    .dataframe thead th {\n",
       "        text-align: right;\n",
       "    }\n",
       "</style>\n",
       "<table border=\"1\" class=\"dataframe\">\n",
       "  <thead>\n",
       "    <tr style=\"text-align: right;\">\n",
       "      <th></th>\n",
       "      <th>joined</th>\n",
       "      <th>player_count</th>\n",
       "    </tr>\n",
       "  </thead>\n",
       "  <tbody>\n",
       "    <tr>\n",
       "      <th>0</th>\n",
       "      <td>1991</td>\n",
       "      <td>1</td>\n",
       "    </tr>\n",
       "    <tr>\n",
       "      <th>1</th>\n",
       "      <td>1998</td>\n",
       "      <td>3</td>\n",
       "    </tr>\n",
       "    <tr>\n",
       "      <th>2</th>\n",
       "      <td>1999</td>\n",
       "      <td>1</td>\n",
       "    </tr>\n",
       "    <tr>\n",
       "      <th>3</th>\n",
       "      <td>2000</td>\n",
       "      <td>2</td>\n",
       "    </tr>\n",
       "    <tr>\n",
       "      <th>4</th>\n",
       "      <td>2001</td>\n",
       "      <td>2</td>\n",
       "    </tr>\n",
       "    <tr>\n",
       "      <th>5</th>\n",
       "      <td>2002</td>\n",
       "      <td>10</td>\n",
       "    </tr>\n",
       "    <tr>\n",
       "      <th>6</th>\n",
       "      <td>2003</td>\n",
       "      <td>13</td>\n",
       "    </tr>\n",
       "    <tr>\n",
       "      <th>7</th>\n",
       "      <td>2004</td>\n",
       "      <td>12</td>\n",
       "    </tr>\n",
       "    <tr>\n",
       "      <th>8</th>\n",
       "      <td>2005</td>\n",
       "      <td>17</td>\n",
       "    </tr>\n",
       "    <tr>\n",
       "      <th>9</th>\n",
       "      <td>2006</td>\n",
       "      <td>18</td>\n",
       "    </tr>\n",
       "    <tr>\n",
       "      <th>10</th>\n",
       "      <td>2007</td>\n",
       "      <td>38</td>\n",
       "    </tr>\n",
       "    <tr>\n",
       "      <th>11</th>\n",
       "      <td>2008</td>\n",
       "      <td>53</td>\n",
       "    </tr>\n",
       "    <tr>\n",
       "      <th>12</th>\n",
       "      <td>2009</td>\n",
       "      <td>78</td>\n",
       "    </tr>\n",
       "    <tr>\n",
       "      <th>13</th>\n",
       "      <td>2010</td>\n",
       "      <td>131</td>\n",
       "    </tr>\n",
       "    <tr>\n",
       "      <th>14</th>\n",
       "      <td>2011</td>\n",
       "      <td>201</td>\n",
       "    </tr>\n",
       "    <tr>\n",
       "      <th>15</th>\n",
       "      <td>2012</td>\n",
       "      <td>340</td>\n",
       "    </tr>\n",
       "    <tr>\n",
       "      <th>16</th>\n",
       "      <td>2013</td>\n",
       "      <td>458</td>\n",
       "    </tr>\n",
       "    <tr>\n",
       "      <th>17</th>\n",
       "      <td>2014</td>\n",
       "      <td>818</td>\n",
       "    </tr>\n",
       "    <tr>\n",
       "      <th>18</th>\n",
       "      <td>2015</td>\n",
       "      <td>1336</td>\n",
       "    </tr>\n",
       "    <tr>\n",
       "      <th>19</th>\n",
       "      <td>2016</td>\n",
       "      <td>3799</td>\n",
       "    </tr>\n",
       "    <tr>\n",
       "      <th>20</th>\n",
       "      <td>2017</td>\n",
       "      <td>4307</td>\n",
       "    </tr>\n",
       "    <tr>\n",
       "      <th>21</th>\n",
       "      <td>2018</td>\n",
       "      <td>6569</td>\n",
       "    </tr>\n",
       "  </tbody>\n",
       "</table>\n",
       "</div>"
      ],
      "text/plain": [
       "    joined  player_count\n",
       "0     1991             1\n",
       "1     1998             3\n",
       "2     1999             1\n",
       "3     2000             2\n",
       "4     2001             2\n",
       "5     2002            10\n",
       "6     2003            13\n",
       "7     2004            12\n",
       "8     2005            17\n",
       "9     2006            18\n",
       "10    2007            38\n",
       "11    2008            53\n",
       "12    2009            78\n",
       "13    2010           131\n",
       "14    2011           201\n",
       "15    2012           340\n",
       "16    2013           458\n",
       "17    2014           818\n",
       "18    2015          1336\n",
       "19    2016          3799\n",
       "20    2017          4307\n",
       "21    2018          6569"
      ]
     },
     "execution_count": 16,
     "metadata": {},
     "output_type": "execute_result"
    }
   ],
   "source": [
    "# how many players are joined every year\n",
    "df.groupby(\"joined\").agg(player_count=('name', 'count')).reset_index()"
   ]
  },
  {
   "cell_type": "code",
   "execution_count": null,
   "metadata": {},
   "outputs": [],
   "source": []
  }
 ],
 "metadata": {
  "kernelspec": {
   "display_name": "analysis",
   "language": "python",
   "name": "python3"
  },
  "language_info": {
   "codemirror_mode": {
    "name": "ipython",
    "version": 3
   },
   "file_extension": ".py",
   "mimetype": "text/x-python",
   "name": "python",
   "nbconvert_exporter": "python",
   "pygments_lexer": "ipython3",
   "version": "3.13.1"
  }
 },
 "nbformat": 4,
 "nbformat_minor": 4
}
